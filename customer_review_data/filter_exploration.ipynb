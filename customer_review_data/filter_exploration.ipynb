{
 "cells": [
  {
   "cell_type": "code",
   "execution_count": 84,
   "metadata": {
    "collapsed": true
   },
   "outputs": [],
   "source": [
    "import pandas as pd\n",
    "import numpy as np\n",
    "import nltk\n",
    "from nltk import sent_tokenize,word_tokenize, pos_tag, ne_chunk\n",
    "from nltk.stem.snowball import SnowballStemmer\n",
    "from nltk.stem import WordNetLemmatizer\n",
    "from nltk import wordpunct_tokenize\n",
    "import re\n",
    "from nltk.corpus import stopwords\n",
    "import pandas as pd\n",
    "\n",
    "stemmer = SnowballStemmer('english')\n",
    "def stem(w):\n",
    "    return stemmer.stem(w)"
   ]
  },
  {
   "cell_type": "code",
   "execution_count": 85,
   "metadata": {
    "collapsed": true
   },
   "outputs": [],
   "source": [
    "\n",
    "def process_sentence(s):\n",
    "        s = re.sub(r' \\.', ' ',s)\n",
    "        s = re.sub(r'#+',' ',s)\n",
    "        s = re.sub(r'\\*+',' ',s)\n",
    "        s = re.sub(r'_+',' ',s)\n",
    "        s = re.sub(r':+',' ',s)\n",
    "        s = re.sub(r'\\(+',' ',s)\n",
    "        s = re.sub(r'\\)+',' ',s)\n",
    "        s = re.sub(r'\\|+',' ',s)\n",
    "        s = re.sub(r'\\\\\\w+',' ',s)\n",
    "        s = re.sub(r'=',' ',s)\n",
    "        s = re.sub(r'/+',' ',s)\n",
    "        s = re.sub(r'\\\\+',' ',s)\n",
    "        s = re.sub(r'[^\\x00-\\x7f]',' ', s)\n",
    "        #s = re.sub(r'[[:digit:]]',' ',s)\n",
    "        s = re.sub(r'\\s+',' ',s)\n",
    "        return s"
   ]
  },
  {
   "cell_type": "code",
   "execution_count": 86,
   "metadata": {
    "collapsed": false
   },
   "outputs": [
    {
     "data": {
      "text/html": [
       "<div>\n",
       "<table border=\"1\" class=\"dataframe\">\n",
       "  <thead>\n",
       "    <tr style=\"text-align: right;\">\n",
       "      <th></th>\n",
       "      <th>opinion</th>\n",
       "      <th>target</th>\n",
       "    </tr>\n",
       "  </thead>\n",
       "  <tbody>\n",
       "    <tr>\n",
       "      <th>0</th>\n",
       "      <td>{'excel': ['excellent', 'excellent'], 'easi': ...</td>\n",
       "      <td>{'pictur': ['picture', 'picture', 'picture', '...</td>\n",
       "    </tr>\n",
       "    <tr>\n",
       "      <th>1</th>\n",
       "      <td>{'cool': ['cool'], 'first': ['first'], 'digit'...</td>\n",
       "      <td>{'toyyep': ['toyyep'], 'camera': ['camera', 'c...</td>\n",
       "    </tr>\n",
       "    <tr>\n",
       "      <th>2</th>\n",
       "      <td>{'incred': ['incredible'], 'extens': ['extensi...</td>\n",
       "      <td>{'canon': ['canon', 'canon'], 'g3': ['g3', 'g3...</td>\n",
       "    </tr>\n",
       "    <tr>\n",
       "      <th>3</th>\n",
       "      <td>{'great': ['great'], 'satisfi': ['satisfied'],...</td>\n",
       "      <td>{'camera': ['camera', 'cameras', 'camera'], 'c...</td>\n",
       "    </tr>\n",
       "    <tr>\n",
       "      <th>4</th>\n",
       "      <td>{'full': ['full'], 'wonder': ['wonderful'], 'p...</td>\n",
       "      <td>{'practic': ['practice'], 'love': ['love'], 'c...</td>\n",
       "    </tr>\n",
       "  </tbody>\n",
       "</table>\n",
       "</div>"
      ],
      "text/plain": [
       "                                             opinion  \\\n",
       "0  {'excel': ['excellent', 'excellent'], 'easi': ...   \n",
       "1  {'cool': ['cool'], 'first': ['first'], 'digit'...   \n",
       "2  {'incred': ['incredible'], 'extens': ['extensi...   \n",
       "3  {'great': ['great'], 'satisfi': ['satisfied'],...   \n",
       "4  {'full': ['full'], 'wonder': ['wonderful'], 'p...   \n",
       "\n",
       "                                              target  \n",
       "0  {'pictur': ['picture', 'picture', 'picture', '...  \n",
       "1  {'toyyep': ['toyyep'], 'camera': ['camera', 'c...  \n",
       "2  {'canon': ['canon', 'canon'], 'g3': ['g3', 'g3...  \n",
       "3  {'camera': ['camera', 'cameras', 'camera'], 'c...  \n",
       "4  {'practic': ['practice'], 'love': ['love'], 'c...  "
      ]
     },
     "execution_count": 86,
     "metadata": {},
     "output_type": "execute_result"
    }
   ],
   "source": [
    "transaction = pd.read_csv('transactions.csv',index_col = 0)\n",
    "transaction.head()"
   ]
  },
  {
   "cell_type": "code",
   "execution_count": 87,
   "metadata": {
    "collapsed": false
   },
   "outputs": [
    {
     "data": {
      "text/html": [
       "<div>\n",
       "<table border=\"1\" class=\"dataframe\">\n",
       "  <thead>\n",
       "    <tr style=\"text-align: right;\">\n",
       "      <th></th>\n",
       "      <th>comment</th>\n",
       "      <th>target</th>\n",
       "    </tr>\n",
       "  </thead>\n",
       "  <tbody>\n",
       "    <tr>\n",
       "      <th>0</th>\n",
       "      <td>excellent picture quality color i recently pur...</td>\n",
       "      <td>{'pictur qualiti color': ['picture quality col...</td>\n",
       "    </tr>\n",
       "    <tr>\n",
       "      <th>1</th>\n",
       "      <td>cool toyyep this is my first digital camera , ...</td>\n",
       "      <td>{'toyyep': ['toyyep'], 'camera': ['camera'], '...</td>\n",
       "    </tr>\n",
       "    <tr>\n",
       "      <th>2</th>\n",
       "      <td>canon g3 ? incredible camera i did extensive r...</td>\n",
       "      <td>{'canon g3': ['canon g3'], 'camera': ['camera'...</td>\n",
       "    </tr>\n",
       "    <tr>\n",
       "      <th>3</th>\n",
       "      <td>great camera i bought my canon g3 about a mont...</td>\n",
       "      <td>{'camera': ['camera', 'cameras'], 'canon g3': ...</td>\n",
       "    </tr>\n",
       "    <tr>\n",
       "      <th>4</th>\n",
       "      <td>have n't had practice but i 'm already in love...</td>\n",
       "      <td>{'practic': ['practice'], 'love': ['love'], 'c...</td>\n",
       "    </tr>\n",
       "  </tbody>\n",
       "</table>\n",
       "</div>"
      ],
      "text/plain": [
       "                                             comment  \\\n",
       "0  excellent picture quality color i recently pur...   \n",
       "1  cool toyyep this is my first digital camera , ...   \n",
       "2  canon g3 ? incredible camera i did extensive r...   \n",
       "3  great camera i bought my canon g3 about a mont...   \n",
       "4  have n't had practice but i 'm already in love...   \n",
       "\n",
       "                                              target  \n",
       "0  {'pictur qualiti color': ['picture quality col...  \n",
       "1  {'toyyep': ['toyyep'], 'camera': ['camera'], '...  \n",
       "2  {'canon g3': ['canon g3'], 'camera': ['camera'...  \n",
       "3  {'camera': ['camera', 'cameras'], 'canon g3': ...  \n",
       "4  {'practic': ['practice'], 'love': ['love'], 'c...  "
      ]
     },
     "execution_count": 87,
     "metadata": {},
     "output_type": "execute_result"
    }
   ],
   "source": [
    "new_transaction = pd.read_csv('transaction_v3.csv',index_col = 0)\n",
    "new_transaction.head()"
   ]
  },
  {
   "cell_type": "code",
   "execution_count": 116,
   "metadata": {
    "collapsed": false
   },
   "outputs": [],
   "source": [
    "targets = transaction['target'].values\n",
    "size = len(targets)\n",
    "G_dict = {}\n",
    "for i in range(size):\n",
    "    L_dict = eval(targets[i])\n",
    "    if len(targets[i]) == 1:\n",
    "        continue\n",
    "    for key in L_dict.keys():\n",
    "        G_dict[key] = G_dict.get(key, 0) + 1"
   ]
  },
  {
   "cell_type": "code",
   "execution_count": 117,
   "metadata": {
    "collapsed": false
   },
   "outputs": [
    {
     "name": "stdout",
     "output_type": "stream",
     "text": [
      "{'pictur': 26, 'qualiti': 24, 'color': 9, 'canon': 26, 'g3': 25, 'purchas': 4, 'camera': 44, 'fact': 5, 'trip': 4, 'week': 6, 'press': 2, 'box': 5, 'way': 9, 'work': 6, 'g2': 10, 'x': 2, 'set': 10, 'flash': 11, 'card': 10, 'line': 5, 'featur': 21, 'abil': 5, 'lens': 5, 'filter': 4, 'choic': 7, 'anyon': 6, 'combin': 2, 'eas': 3, 'use': 6, 'flexibl': 4, 'option': 9, 'toy': 2, 'softwar': 9, 'detail': 4, 'everyth': 7, 'month': 7, 'megapixel': 11, 'manual': 5, 'control': 10, 'novic': 2, 'function': 4, 'len': 19, 'storag': 3, 'imag': 14, 'minut': 2, 'cf': 5, 'type': 5, 'thing': 10, 'noth': 4, 'dial': 3, 'viewfind': 12, 'fan': 2, 'lcd': 13, 'research': 6, 'coupl': 2, 'review': 11, 'site': 2, 'resolut': 7, 'model': 2, 'dpreview': 2, 'depth': 3, 'speed': 5, 'mode': 13, 'hundr': 3, 'photo': 17, 'shutter': 7, 'flaw': 7, 'time': 18, 'design': 3, 'disappoint': 2, 'photographi': 5, 'love': 3, 'day': 5, 'fun': 2, 'peopl': 4, 'screen': 7, 'panel': 3, 'top': 3, 'reason': 2, 'adjust': 4, 't': 6, 'focus': 5, 'posit': 3, 'slr': 5, 'program': 3, 'exposur': 4, 'auto': 8, 'rang': 7, 'meter': 3, '4mp': 3, 'market': 5, 'photograph': 6, 'zoom': 11, 'result': 5, 'film': 6, 'system': 3, 'button': 6, 'negat': 2, 'batteri': 14, 'elph': 2, 'problem': 7, 'comput': 3, 'sort': 3, 'upload': 2, 'issu': 3, 'cap': 2, 'view': 4, 'menus': 3, 'price': 8, 'point': 13, 'shoot': 9, 'differ': 3, 'class': 2, 'year': 5, 'buyer': 2, 'period': 2, 'charg': 2, 'case': 2, 'pic': 4, 'store': 5, 'hand': 7, 'bit': 6, 'life': 9, 'wife': 3, 'lever': 3, 'print': 2, 'brand': 3, 'finder': 2, 'output': 2, 'power': 4, 'amazon': 3, 'ton': 2, 'buff': 2, 'shot': 7, 'kid': 2, 'prioriti': 3, 'subject': 3, 'apertur': 2, 'access': 2, 'feel': 3, 'weight': 2, 'someth': 6, 'plastic': 3, 'lot': 6, 'mp': 2, 'product': 3, 'drawback': 3, 'nois': 4, 'level': 2, 'grain': 2, 'b': 2, 'deal': 2, 'balanc': 2, 'lack': 2, 'experi': 4, 'situat': 3, 'light': 5, 'object': 2, 'printer': 4, 'cost': 3, 'user': 3, 'slrs': 2, 'equip': 2, 'digicam': 3, 'nikon': 5, 'lag': 2, 'technolog': 4, 'anyth': 4, 'child': 2, 'shoe': 3, 'money': 3, 'extens': 2, 'order': 3, 'head': 2, 'durat': 2, 'wall': 2, 'shadow': 2, 'complaint': 2, 'file': 2, 'photoshop': 4, 'decis': 2, 'servic': 2, 'competit': 3, 'effect': 3, 'expect': 2, 'format': 4, 'captur': 2, 'devic': 2, 'sun': 2, 'term': 2, 'eo': 3, 'need': 2, 'optic': 2, 'bodi': 3, 'pros': 2, 'none': 2, 'friend': 2, 'one': 2, 'process': 3, 'bug': 2, 'attach': 2, 'red-ey': 2, 'iphoto': 2, 'construct': 2, 'perform': 3, 'note': 2, 'drive': 3, 'opinion': 2, 'art': 2, 'home': 2, 'shortcom': 2, 'barrel': 3, 'curv': 2, 'memori': 2, 'unit': 2, 'strap': 2, 'part': 2, 'right': 2, 'corner': 3, 'coolpix': 3}\n",
      "220\n"
     ]
    }
   ],
   "source": [
    "new_dict = {}\n",
    "for key in G_dict.keys():\n",
    "    if G_dict[key] > 1:\n",
    "        new_dict[key] = G_dict[key]\n",
    "print(new_dict)\n",
    "print(len(new_dict))"
   ]
  },
  {
   "cell_type": "code",
   "execution_count": 198,
   "metadata": {
    "collapsed": false
   },
   "outputs": [
    {
     "name": "stdout",
     "output_type": "stream",
     "text": [
      "45\n",
      "{'pictur qualiti color': 2, 'canon powershot g3': 1, 'purchas': 4, 'camera': 44, 'fact': 5, 'trip': 4, 'week': 6, 'pictur': 24, 'press': 2, 'box': 4, 'rest': 1, 'way': 9, 'work constitu': 1, 'g2': 10, 'canon': 15, 'pictur qualiti': 4, 'x': 1, 'loss': 1, 'set': 7, 'flash': 9, 'pinch': 1, 'flash card': 1, 'camera line': 1, 'featur': 21, 'abil': 4, 'lens filter choic': 1, 'anyon': 4, 'qualiti pictur': 1, 'combin': 2, 'eas': 3, 'use': 4, 'flexibl': 3, 'option': 7, 'job canon': 1, 'toyyep': 1, 'toy': 1, 'detail': 4, 'everyth': 7, 'month': 7, 'g3': 20, 'cent': 1, 'overview': 1, 'powershot g3': 3, 'powershot seri': 1, 'megapixel': 5, 'alsmost manual control': 1, 'touch': 1, 'brillianc': 1, 'novic': 2, 'expert': 1, 'function': 3, 'kind': 1, 'len': 15, 'storag': 2, 'qualiti imag': 1, 'movi': 1, 'minut': 2, 'kingston 512mb cf': 1, 'choic': 5, 'type': 3, 'imag': 9, 'thing': 10, 'noth': 4, 'dial': 2, 'viewfind': 11, 'viewfind fan': 1, 'lcd': 7, 'canon g3': 8, 'research': 5, 'megapixel camera': 3, 'coupl': 2, 'camera review site': 2, 'review': 9, 'number': 1, 'resolut sampl imag': 1, 'model': 2, 'word': 1, 'site': 1, 'dpreview': 2, 'depth': 3, 'speed': 2, 'autom': 1, 'conveni': 1, 'mode': 6, 'awe': 1, 'qualiti': 13, 'hundr': 2, 'photo': 11, 'shutter speed flaw': 1, 'time': 18, 'design flaw': 2, 'disappoint': 2, 'canon g3 anyon': 1, 'photographi': 4, 'practic': 1, 'love': 3, 'day': 4, 'fun': 2, 'peopl': 4, 'screen': 2, 'troubl': 1, 'attent': 1, 'display panel': 1, 'top': 3, 'reason': 2, 'diopter adjust dial': 1, 't': 3, 'adjust': 3, 'diopter adjust': 1, 'focus': 4, 'eyesight': 1, 'posit': 3, 'slr': 5, 'program': 1, 'exposur control': 1, 'latitud': 1, 'progam': 1, 'auto exposur set': 1, 'set rang': 1, 'meter': 2, 'lcd screen': 4, '4mp': 2, 'target market': 1, 'photograph 4x zoom': 1, 'result': 5, 'exposur set': 1, 'film': 4, 'system': 2, 'focus rang': 1, 'push': 1, 'button': 6, 'manual focus mode': 1, 'negat': 2, 'size': 1, 'minolta': 1, 's-1 ap slr': 1, 'batteri': 5, 'elph line': 1, 'borderu lcd': 1, 'direct': 1, 'zoom': 4, '14x zoom': 1, 'addit': 1, 'zoom pictur': 1, 'problem': 7, 'canon comput softwar': 1, 'sort': 2, 'upload': 1, 'comput': 2, 'issu': 3, 'len cap': 2, 'view': 3, 'menus': 2, 'price': 4, 'price drop': 1, 'bargain': 1, 'photobug': 1, 'control': 7, 'newbi': 1, 'auto set': 1, 'box megapixel': 1, 'anybodi': 1, 'megapixel market hype': 1, 'point': 10, 'shoot': 5, 'price differ': 1, 'zoom rang': 1, 'lens': 3, 'year': 5, 'class': 1, 'work': 5, 'buyer': 2, 'period': 2, 'charg': 2, 'softwar': 5, 'case': 2, 'pic': 4, 'auto mode': 4, 'store': 3, 'hand': 7, 'bit': 6, 'batteri life': 7, 'card': 7, 'mb card': 2, 'simpletech': 1, 'photograph': 5, 'i use': 1, 'wife': 3, 'knob': 1, 'cf card': 1, 'len zoom lever': 1, 'colorimetri': 1, 'print': 2, 'brand': 2, 'compani': 1, 'finder': 2, 'color': 7, 'output': 2, 'power': 2, 'knockoff charger': 1, 'amazon': 3, 'ton': 2, 'photo buff': 1, 'f-stop': 1, 'juli fire': 1, 'shot': 6, 'kid': 2, 'sparkler': 1, 'manual': 3, 'slr camera': 1, 'spin': 1, 'prioriti': 2, 'speed subject': 1, 'apertur prioriti': 2, 'length': 1, 'program mode': 1, 'access': 2, 'select': 1, 'apertur': 1, 'menu option': 1, 't access': 1, 'feel': 3, 'weight': 2, 'someth': 5, 'plastic toy': 1, 'media cf': 1, 'sandisk card': 1, 'lot': 6, 'skill': 1, 'knowledg': 1, 'auto': 1, 'joe': 1, 'mp camera': 1, 'sampl imag': 1, 'complex': 1, 'product': 3, 'g': 1, 'photo night mode': 1, 'drawback': 3, 'market': 3, 'nois level': 1, 'nois': 4, 'iso': 1, 'sharp': 1, 'doubt': 1, 'rice grain': 1, 'b': 2, 'len cover': 1, 'damag i wish canon': 1, 'lever': 1, 'deal': 2, 'seller': 1, 'balanc': 2, '4x zoom': 2, 'price rang': 2, 'lack': 2, 'experi': 3, 'i shot': 1, 'film zoom p': 1, 's': 1, 'effort': 1, 'life': 1, 'situat': 3, 'action': 1, 'dust': 1, 'film speed': 1, 'grain': 1, 'plenti': 1, 'light': 5, 'object': 2, 'printer': 2, 'shoot photographi': 1, 'resolut': 4, 'cost': 2, 'use camera': 1, 'desir': 1, 'mine': 1, 'limit': 1, 'user': 3, 'film slrs': 1, 'qualiti flash equip': 1, 'bias': 1, 'develop': 1, 'digicam': 2, 'move': 1, 'frame sensor': 1, 'reput': 1, 'lag time': 1, 'technolog': 4, 'lag time problem': 1, 'film slr': 1, 'focus lock': 1, 'shutter releas lag time': 1, 'ive': 1, 'anyth': 4, 'field': 1, 'f8': 1, 'lock': 1, 'subject': 2, 'pet': 1, 'child': 2, 'shutter': 5, 'probabl': 1, 'flash problem': 1, 'nikon slr': 2, 'spot': 1, 'shoe': 3, 'qualiti flash': 1, 'money': 3, 'nikon flash': 1, 'canon camera': 2, 'metz': 1, 'metz modul': 1, 'extens cord': 1, 'ct-4': 1, 'metz flash': 1, '45cl-3': 1, 'sca': 1, 'connector cord': 1, 'order': 3, 'shutter speed': 1, 'sync': 1, 'shutter sync': 1, 'metz flash head': 1, 'sca control panel': 1, 'durat': 1, 'exposur': 2, 'youv': 1, 'rang': 2, 'wall': 2, 'densiti filter': 1, 'problem cant': 1, 'shadow': 2, 'nikon f100 film camera': 1, 'ct-4 flash head': 1, 'complaint': 2, 'imag mode': 1, 'mbyte cf': 1, 'canon softwar': 1, 'file': 2, 'youd': 1, 'adob photoshop camera': 1, 'g3 hardwar': 1, 'tweak': 1, 'adob camera': 1, 'show': 1, 'hardwar': 1, 'g3 imag softwar': 1, 'photoshop': 3, 'realiti': 1, 'conjunct': 1, 'flash system': 1, 'camera limit': 1, 'resolut limit': 1, 'sock': 1, 'decis': 2, 'photo hobbiest': 1, 'shoot abil': 1, 'girlfriend': 1, 'k.': 1, 'whoa function': 1, 'worth': 1, 'buy': 1, 'buck': 1, 'instances.but': 1, 'instanc': 1, 'mp': 1, 'consum report review time': 1, 'consum magazin': 1, 'naysay': 1, 'tri': 1, 'servic': 1, 'condit': 1, 'flybal': 1, 'competit': 3, 'dog': 1, 'stopact photo': 1, 'dream': 1, 'shutter prioriti': 1, 'redwood forest': 1, 'close-up photo': 1, 'trillium': 1, 'flower': 1, 'bloom': 1, 'criticsm': 1, 'effect': 2, 'telephoto doubler': 1, 'lcd panel': 1, 'i t': 1, 'fan': 1, 'expect': 2, 'powershot g2': 1, 'gain': 1, 'format': 1, 'record review': 1, 'flexibl batteri life': 1, 'hour': 1, 'nikon': 2, 'captur': 2, 'fileview softwar': 1, 'photo captur': 1, 'look sort': 1, 'picasa softwar googl': 1, 'shape': 1, 'devic': 1, 'book': 1, 'f5 .6': 1, 'nd filter': 1, 'environ': 1, 'auto-correct': 1, 'sun': 2, 'contour': 1, 'color effect': 1, 'exposur mode': 1, 'replac': 1, 'effect func menu option': 1, 'default set': 1, 'sepia': 1, 'custom effect': 1, 'photostich softwar': 1, 'er': 1, 'factori white-correct set': 1, 'edg': 1, 'build': 1, 'offset': 1, 'rep': 1, 'term': 2, 'haze': 1, 'imag qualiti': 3, 'megapixel digicam': 1, 'color respons point': 1, 'g3 imag': 1, 'eo rang': 1, 'slrs': 1, 'mistak': 1, 'second': 1, 'pro-sum camera': 1, 'nikon cp5700': 1, 'olympus c5050': 1, 'nikon cp5000': 1, 'need': 2, 'fianc': 1, 'optic cp5700': 1, 'cp5000': 1, 'format olympus c5050': 1, 'metal bodi': 1, 'artifact': 1, 'fuji fps602 camera': 1, 'canon g3 4mp': 1, 'stamp': 1, 'approv': 1, 'observ': 1, 'babi': 1, 'pros': 1, 'amazon.com': 1, 'canon g3 camera': 1, 'unrespons': 1, 'none': 2, 'camera friend': 1, 'delay': 1, 'shutter button': 1, 'one': 2, 'film camera': 2, 'film process cost': 1, 'bug': 2, 'flaw': 4, 'millisecond pictur': 1, 'moment': 1, 'g3 camera': 1, 'attach': 1, 'autofocus delay': 1, 'red-ey': 2, 'i canon': 1, 'eo film camera': 1, 'snap dim': 1, 'kick': 1, 'board canon': 1, 'i challeng anyon': 1, 'beach': 1, 'noon': 1, 'dive': 1, 'friend': 1, 'process': 1, 'iphoto': 2, 'dime store': 1, 'line eo': 1, 'moment-captur devic': 1, 'rebel ti': 1, 'equip': 1, 'fli adjust': 1, 'camcord shot': 1, 'eo': 1, 'cap': 1, 'camera len': 1, 'bodi construct': 2, 'respect': 1, 'griep': 1, 'canon powershot s20': 1, 'research canon': 1, 'iguazu': 1, 'perform': 1, 'penni': 1, 'note': 1, 'backup batteri': 2, 'plus': 1, 'bunch': 1, 'camcord batteri': 1, 'friend chang batteri': 1, 'zoom flaw': 1, 'advic': 1, 'futur': 1, 'pace': 1, 'drive': 1, 'megapixel 4x zoom camera': 1, 'info': 1, 'spec': 1, 'perform opinion': 1, 'champagn finish': 1, 'art': 1, 'silver magnesium finish': 1, 'line': 2, 'grip': 1, 'elph': 1, 'qualiti photo': 1, 'home': 2, 'compromis': 1, 'soni dcs-f': 1, 'onlin': 1, 'shortcom': 2, 'len barrel': 2, 'tiff format': 1, 'jpeg': 1, 'wast': 1, 'batteri power': 1, 'lag': 1, 'mac': 1, 'os x': 1, 'import': 1, 'curv': 1, 'stitch pictur': 1, 'olympus camera': 1, 'photo printer': 1, 'photo life': 1, 'hassl': 1, 'qualiti pic': 1, 'consum upload': 1, 'camera experi': 1, 'canon printer': 1, 'ex flash': 1, 'film point': 1, 'design': 1, 'batteri durat': 1, 'damag idea': 1, 'purpos': 1, 'rule': 1, 'place': 1, 'varieti': 1, 'factor buff': 1, 'plastic brick brick': 1, 'idiot program auto mode': 1, 'memori card': 1, 'expens': 1, 'plastic': 2, 'brass camera': 1, 'mean': 1, 'zoom len unit': 1, 'camera bag': 1, 'handbag camera': 1, 'handbag': 1, 'pocket': 1, 'function lever': 1, 'view mode': 1, 'canon flash': 1, 'flash photographi': 1, 'strap': 1, 'part': 2, 'softwar packag': 1, 'everyon point': 1, 'shoot power': 1, 'photographi pleas note': 1, 'opinion': 1, 'item': 1, 'right': 2, 'macro': 1, 'otherdigicam': 1, 'resol': 1, 'monitor 1200x1024 resol anyway': 1, 'stori': 1, 'usag': 1, 'harm': 1, 'camea lcd screen': 1, 'len distort': 1, 'parallax phenomenon': 1, 'distort': 1, 'error': 1, 'compactflash': 1, 'digicam brand': 1, 'diagno': 1, 'fix': 1, 'learn curv': 1, 'accessori': 1, 'litium batteri': 1, 'vike flash': 1, 'max pictur qualiti': 1, 'subnotebook': 1, 'usb connect': 1, 'drive space': 1, 'fear': 1, 'connet camera': 1, 'cf': 1, 'cf erro': 1, 'winner': 1, 'durabl': 1, 'snow': 1, 'car': 1, 'suggest': 1, 'shoot len': 1, 'wipe': 1, 'mm adapt': 1, 'uv len filter': 1, 'lensmateonline.com': 1, 'len adapt': 1, 'g3-better': 1, 'canon g3 review respons recommend': 1, 'art scienc': 1, 'corner': 2, 'len viewfind': 1, 'lcd viewfind': 1, 'differ': 2, 'playback zoom': 1, 'imag process': 1, 't rank': 1, 'merchant': 1, 'j': 1, 'r camera': 1, 'consum choic': 1, 'rate store': 1, 'ship': 1, 'busi day': 1, 'saturday': 1, 'lie': 1, 'credit card': 1, 'repli': 1, 'hope': 1, 'refund': 1, 'manner': 1, 'thank': 1, 'canon servic center': 1, 'view finder': 1, 'powershot s330': 1, 'coolpix': 2, 'ergonom': 1, 'shot hundr': 1, 'megapixel imag': 1, 's330': 1, 'head': 1, 'unit': 1, 'tripod': 1, 'portrait': 1, 'shoe flash attach': 1, 'flash unit': 1, 'canon speedlit': 1, 'ceil': 1, 'powerhous': 1, 'birthday parti': 1, 'batteri charg system': 1, 'adjust option shutter prioriti': 1, 'meter adjust': 1, 'weak': 1, 'level': 1, 'steel heft': 1, 'megapixel photo': 1, 'gb drive': 1, 'memori': 1, 'appl comput': 1, 'point-and-shoot': 1, 'custom white-bal': 1, 'piec': 1, 'paper': 1, 'exposure-bracket set': 1, 'telephoto len': 1, 'extens': 1, 'nikon coolpix': 1, 'soni dsc-f': 1, 'imag qualiti resolut': 1, 'area': 1, 'enthusiast featur': 1, 'flash capabl': 1, 'storag type': 1, 'imag format': 1, 'enthusiast': 1, 'g1': 1, 'perform pictur qualiti': 1, 'megapixel camera canon': 1, 'optic': 1, 'price point': 1, 'ibm microdr type': 1, 'gigabyt': 1, 'gig card': 1, 'nit': 1, 'wrist strap': 1, 'neck strap': 1, 'canon qualiti': 1, 'semi pros': 1}\n"
     ]
    }
   ],
   "source": [
    "targets = new_transaction['target'].values\n",
    "size = len(targets)\n",
    "print(size)\n",
    "G_dict = {}\n",
    "for i in range(size):\n",
    "    L_dict = eval(targets[i])\n",
    "    if len(targets[i]) == 1:\n",
    "        continue\n",
    "    for key in L_dict.keys():\n",
    "        G_dict[key] = G_dict.get(key, 0) + 1\n",
    "print(G_dict)"
   ]
  },
  {
   "cell_type": "code",
   "execution_count": 204,
   "metadata": {
    "collapsed": false
   },
   "outputs": [
    {
     "name": "stdout",
     "output_type": "stream",
     "text": [
      "448\n",
      "704\n",
      "257\n",
      "['purchas', 'camera', 'fact', 'trip', 'week', 'pictur', 'press', 'box', 'way', 'g2', 'canon', 'x', 'set', 'flash', 'featur', 'abil', 'anyon', 'combin', 'eas', 'use', 'flexibl', 'option', 'toy', 'detail', 'everyth', 'month', 'g3', 'megapixel', 'novic', 'function', 'len', 'storag', 'minut', 'choic', 'type', 'imag', 'thing', 'noth', 'dial', 'viewfind', 'lcd', 'research', 'coupl', 'review', 'model', 'site', 'dpreview', 'depth', 'speed', 'mode', 'qualiti', 'hundr', 'photo', 'time', 'disappoint', 'photographi', 'love', 'day', 'fun', 'peopl', 'screen', 'top', 'reason', 't', 'adjust', 'focus', 'posit', 'slr', 'program', 'meter', '4mp', 'result', 'film', 'system', 'button', 'negat', 'batteri', 'zoom', 'problem', 'sort', 'upload', 'comput', 'issu', 'view', 'menus', 'price', 'control', 'point', 'shoot', 'lens', 'year', 'work', 'buyer', 'period', 'charg', 'softwar', 'case', 'pic', 'store', 'hand', 'bit', 'card', 'photograph', 'wife', 'print', 'brand', 'finder', 'color', 'output', 'power', 'amazon', 'ton', 'shot', 'kid', 'manual', 'prioriti', 'access', 'apertur', 'feel', 'weight', 'someth', 'lot', 'auto', 'product', 'drawback', 'market', 'nois', 'b', 'lever', 'deal', 'balanc', 'lack', 'experi', 'life', 'situat', 'grain', 'light', 'object', 'printer', 'resolut', 'cost', 'limit', 'user', 'digicam', 'technolog', 'anyth', 'lock', 'subject', 'child', 'shutter', 'shoe', 'money', 'metz', 'ct-4', 'sca', 'order', 'sync', 'durat', 'exposur', 'rang', 'wall', 'shadow', 'complaint', 'file', 'hardwar', 'photoshop', 'decis', 'mp', 'servic', 'competit', 'effect', 'fan', 'expect', 'format', 'nikon', 'captur', 'devic', 'sun', 'term', 'slrs', 'need', 'cp5000', 'pros', 'none', 'delay', 'one', 'bug', 'flaw', 'attach', 'red-ey', 'friend', 'process', 'iphoto', 'equip', 'eo', 'cap', 'perform', 'note', 'drive', 'art', 'line', 'elph', 'home', 'shortcom', 'lag', 'curv', 'design', 'plastic', 'handbag', 'strap', 'part', 'opinion', 'right', 'resol', 'distort', 'cf', 'corner', 'differ', 'coolpix', 's330', 'head', 'unit', 'level', 'memori', 'extens', 'enthusiast', 'optic', 'powershot seri', 'display panel', 'knockoff charger', 'juli fire', 'frame sensor', 'connector cord', 'densiti filter', 'k.', 'consum magazin', 'redwood forest', 'telephoto doubler', 'f5 .6', 'nd filter', 'olympus c5050', 'metal bodi', 'snap dim', 'rebel ti', 'bodi construct', 'champagn finish', 'silver magnesium finish', 'soni dcs-f', 'damag idea', 'factor buff', 'parallax phenomenon', 'usb connect', 'mm adapt', 'birthday parti', 'steel heft', 'custom white-bal', 'soni dsc-f']\n"
     ]
    }
   ],
   "source": [
    "new_dict = {}\n",
    "for key in G_dict.keys():\n",
    "    tk_key = nltk.word_tokenize(key)\n",
    "    if len(tk_key) == 1:\n",
    "        new_dict[tk_key[0]] = tk_key\n",
    "for key in G_dict.keys():\n",
    "    i = len(new_dict)\n",
    "    tk_key = nltk.word_tokenize(key)\n",
    "    flag = False\n",
    "    if len(tk_key) > 1:\n",
    "        for tk_k in tk_key:\n",
    "            if tk_k in new_dict.keys():\n",
    "                new_dict[tk_k].append(key) \n",
    "                flag =True\n",
    "        if flag == False:\n",
    "            new_dict[key] = [key]\n",
    "print(len(new_dict))\n",
    "print(len(G_dict))\n",
    "#print(new_dict)\n",
    "count_dict = {}\n",
    "for key in new_dict.keys():\n",
    "    count_dict[key] = 0\n",
    "    for item in new_dict[key]:\n",
    "        count_dict[key] += G_dict[item]\n",
    "count_dict\n",
    "new_count_dict = {}\n",
    "for key in count_dict.keys():\n",
    "    if len(word_tokenize(key)) >= 2:\n",
    "        new_count_dict[key] = count_dict[key]\n",
    "        continue\n",
    "    if count_dict[key] >= 2:\n",
    "        new_count_dict[key] = count_dict[key]\n",
    "print(len(new_count_dict))\n",
    "print(list(new_count_dict.keys()))"
   ]
  },
  {
   "cell_type": "code",
   "execution_count": 205,
   "metadata": {
    "collapsed": false
   },
   "outputs": [
    {
     "data": {
      "text/plain": [
       "['word']"
      ]
     },
     "execution_count": 205,
     "metadata": {},
     "output_type": "execute_result"
    }
   ],
   "source": [
    "word_tokenize(\"word\")"
   ]
  },
  {
   "cell_type": "code",
   "execution_count": 206,
   "metadata": {
    "collapsed": true
   },
   "outputs": [],
   "source": [
    "data_file = \"Canon_G3.csv\"\n",
    "opinion_file = \"opinion_list.txt\"\n",
    "target_file = \"{}_target.txt\".format(data_file.split('.')[0])\n",
    "f2 = open(target_file,'r')\n",
    "lines = f2.readlines()\n",
    "target_list = [line.split(\"\\n\")[0] for line in lines]"
   ]
  },
  {
   "cell_type": "code",
   "execution_count": 207,
   "metadata": {
    "collapsed": false
   },
   "outputs": [
    {
     "name": "stdout",
     "output_type": "stream",
     "text": [
      "73\n"
     ]
    }
   ],
   "source": [
    "new_dict = {}\n",
    "for key in target_list:\n",
    "    tk_key = nltk.word_tokenize(key)\n",
    "    if len(tk_key) == 1:\n",
    "        new_dict[tk_key[0]] = tk_key\n",
    "for key in target_list:\n",
    "    i = len(new_dict)\n",
    "    tk_key = nltk.word_tokenize(key)\n",
    "    flag = False\n",
    "    if len(tk_key) > 1:\n",
    "        for tk_k in tk_key:\n",
    "            if tk_k in new_dict.keys():\n",
    "                new_dict[tk_k].append(key) \n",
    "                flag =True\n",
    "        if flag == False:\n",
    "            new_dict[key] = [key]\n",
    "print(len(new_dict))\n",
    "target_list = list(new_dict.keys())"
   ]
  },
  {
   "cell_type": "code",
   "execution_count": 210,
   "metadata": {
    "collapsed": false
   },
   "outputs": [
    {
     "name": "stdout",
     "output_type": "stream",
     "text": [
      "62\n"
     ]
    }
   ],
   "source": [
    "target_dict = {}\n",
    "for key in target_list:\n",
    "    tk_key = nltk.word_tokenize(key)\n",
    "    if len(tk_key) == 1:\n",
    "        target_dict[tk_key[0]] = tk_key\n",
    "for key in target_list:\n",
    "    i = len(new_dict)\n",
    "    tk_key = nltk.word_tokenize(key)\n",
    "    flag = False\n",
    "    if len(tk_key) > 1:\n",
    "        for tk_k in tk_key:\n",
    "            if tk_k in target_dict.keys():\n",
    "                target_dict[tk_k].append(key)\n",
    "            else:\n",
    "                \n",
    "print(len(target_dict))\n",
    "target_list = list(target_dict.keys())"
   ]
  },
  {
   "cell_type": "code",
   "execution_count": 208,
   "metadata": {
    "collapsed": false
   },
   "outputs": [
    {
     "name": "stdout",
     "output_type": "stream",
     "text": [
      "73\n",
      "camera\n",
      "pictur\n",
      "canon\n",
      "flash\n",
      "featur\n",
      "use\n",
      "option\n",
      "g3\n",
      "function\n",
      "len\n",
      "imag\n",
      "dial\n",
      "viewfind\n",
      "lcd\n",
      "depth\n",
      "speed\n",
      "qualiti\n",
      "photo\n",
      "focus\n",
      "4mp\n",
      "batteri\n",
      "zoom\n",
      "price\n",
      "control\n",
      "softwar\n",
      "case\n",
      "print\n",
      "color\n",
      "shot\n",
      "manual\n",
      "feel\n",
      "weight\n",
      "product\n",
      "nois\n",
      "lever\n",
      "grain\n",
      "servic\n",
      "delay\n",
      "perform\n",
      "lag\n",
      "design\n",
      "strap\n",
      "distort\n",
      "optic\n",
      "44\n",
      "44\n"
     ]
    }
   ],
   "source": [
    "P = len(target_list)\n",
    "print(P)\n",
    "#print(target_list)\n",
    "extracted_target_list = list(new_count_dict.keys())\n",
    "#print(extracted_target_list)\n",
    "count = 0\n",
    "for w in extracted_target_list:\n",
    "    if w in target_list:\n",
    "        print(w)\n",
    "        count += 1\n",
    "TP = set(target_list).intersection(extracted_target_list)\n",
    "print(len(TP))\n",
    "#print(TP)\n",
    "print(count)"
   ]
  },
  {
   "cell_type": "code",
   "execution_count": 209,
   "metadata": {
    "collapsed": false
   },
   "outputs": [
    {
     "name": "stdout",
     "output_type": "stream",
     "text": [
      "73\n",
      "['design', 'compactflash', 'download', 'weight', 'nois', '4mp', 'product', 'unrespons', 'shot', 'optic', 'color', 'lag', 'manual', 'use', 'automod', 'remot', 'bodi', 'delay', 'flash', 'distort', 'option', 'finish', 'viewfind', 'servic', 'zoom', 'canon', 'import', 'highlight', 'photo', 'speed', 'function', 'dial', 'look', 'case', 'pictur', 'batteri', 'macro', 'camera', 'size', 'print', 'lever', 'len', 'qualiti', 'perform', 'display', 'menu', 'feel', 'softwar', 'g3', 'shape', 'canera', 'price', 'featur', 'control', 'strap', 'depth', 'imag', 'grain', 'focus', 'made', 'lcd', 'learn', 'white offset', 'no-off button', 'raw format', 'night mode', 'tiff format', 'auto mode', 'memori card', 'auto set', 'light auto correct', 'four megapixel', 'spot meter']\n",
      "['design', 'compactflash', 'download', 'weight', 'nois', '4mp', 'product', 'unrespons', 'shot', 'optic', 'color', 'lag', 'manual', 'use', 'automod', 'remot', 'bodi', 'delay', 'flash', 'distort', 'option', 'finish', 'viewfind', 'servic', 'zoom', 'canon', 'import', 'highlight', 'photo', 'speed', 'function', 'dial', 'look', 'case', 'pictur', 'batteri', 'macro', 'camera', 'size', 'print', 'lever', 'len', 'qualiti', 'perform', 'display', 'menu', 'feel', 'softwar', 'g3', 'shape', 'canera', 'price', 'featur', 'control', 'strap', 'depth', 'imag', 'grain', 'focus', 'made', 'lcd', 'learn', 'white offset', 'no-off button', 'raw format', 'night mode', 'tiff format', 'auto mode', 'memori card', 'auto set', 'light auto correct', 'four megapixel', 'spot meter']\n",
      "{'distort', 'dial', 'tiff format', 'use', 'memori card', 'control', 'weight', 'four megapixel', 'product', 'finish', 'download', 'feel', 'spot meter', 'case', 'price', 'perform', 'no-off button', 'unrespons', 'import', 'depth', 'optic', 'softwar', 'color', 'photo', 'imag', 'made', 'auto mode', 'design', 'display', 'remot', 'canon', 'function', 'manual', 'night mode', 'automod', 'macro', 'nois', 'shape', 'size', 'flash', 'servic', 'zoom', 'look', 'raw format', 'print', 'compactflash', 'pictur', 'len', 'lcd', 'batteri', 'canera', 'g3', 'light auto correct', 'grain', 'strap', 'speed', 'camera', 'lag', 'shot', 'delay', 'lever', 'focus', 'option', 'highlight', '4mp', 'bodi', 'qualiti', 'learn', 'auto set', 'white offset', 'featur', 'viewfind', 'menu'}\n"
     ]
    }
   ],
   "source": [
    "P = len(target_list)\n",
    "print(P)\n",
    "print(target_list)\n",
    "extracted_target_list = list(new_dict.keys())\n",
    "print(extracted_target_list)\n",
    "TP = set(target_list).intersection(extracted_target_list)\n",
    "print(TP)"
   ]
  },
  {
   "cell_type": "code",
   "execution_count": null,
   "metadata": {
    "collapsed": true
   },
   "outputs": [],
   "source": [
    "#### new_dict = {}\n",
    "for key in G_dict.keys():\n",
    "    if G_dict[key] >1:\n",
    "        new_dict[key] = G_dict[key]\n",
    "print(len(new_dict))\n",
    "print(new_dict)"
   ]
  },
  {
   "cell_type": "code",
   "execution_count": null,
   "metadata": {
    "collapsed": true
   },
   "outputs": [],
   "source": []
  },
  {
   "cell_type": "code",
   "execution_count": 11,
   "metadata": {
    "collapsed": false
   },
   "outputs": [],
   "source": [
    "s = new_transaction['comment'][2]\n",
    "s =process_sentence(s)"
   ]
  },
  {
   "cell_type": "code",
   "execution_count": 40,
   "metadata": {
    "collapsed": false
   },
   "outputs": [
    {
     "data": {
      "text/plain": [
       "\"{'cours': ['courses', 'course'], 'code exampl': ['code examples'], 'algorithm applic': ['algorithm applications'], 'intuit': ['intuition'], 'schedul': ['schedules'], 'instructor': ['instructors'], 'capston project': ['capstone project']}\""
      ]
     },
     "execution_count": 40,
     "metadata": {},
     "output_type": "execute_result"
    }
   ],
   "source": [
    "new_transaction['target'][1]"
   ]
  },
  {
   "cell_type": "code",
   "execution_count": 13,
   "metadata": {
    "collapsed": false
   },
   "outputs": [
    {
     "data": {
      "text/plain": [
       "\"{'emili fox': ['Emily Fox'], 'job': ['job'], 'concept': ['concepts'], 'explan': ['explanation'], 'compon': ['components'], 'formula': ['formulas'], 'materi': ['materials'], 'cours': ['course'], 'univers': ['University'], 'machin learn special': ['machine learning specialization']}\""
      ]
     },
     "execution_count": 13,
     "metadata": {},
     "output_type": "execute_result"
    }
   ],
   "source": [
    "new_transaction['target'][99]"
   ]
  },
  {
   "cell_type": "code",
   "execution_count": 14,
   "metadata": {
    "collapsed": true
   },
   "outputs": [],
   "source": [
    "s = \"Emily Fox did a great job in explaining tough concepts with simple explanation of the components in the formulas It's a little tough to get through the materials though, it's the 4th course in University of Washington's machine learning specialization afterall =\""
   ]
  },
  {
   "cell_type": "code",
   "execution_count": 15,
   "metadata": {
    "collapsed": false
   },
   "outputs": [
    {
     "data": {
      "text/plain": [
       "\"from nltk.parse.corenlp import CoreNLPServer, CoreNLPDependencyParser\\npath_to_jar = '/Users/collin/stanford/stanford-corenlp-full-2017-06-09/stanford-corenlp-3.8.0.jar'\\npath_to_models_jar = '/Users/collin/stanford/stanford-corenlp-full-2017-06-09/stanford-corenlp-3.8.0-models.jar'\\nserver = CoreNLPServer(path_to_jar=path_to_jar, path_to_models_jar=path_to_models_jar)\\nserver.start()\\ndependency_parser = CoreNLPDependencyParser()\""
      ]
     },
     "execution_count": 15,
     "metadata": {},
     "output_type": "execute_result"
    }
   ],
   "source": [
    "'''from nltk.parse.corenlp import CoreNLPServer, CoreNLPDependencyParser\n",
    "path_to_jar = '/Users/collin/stanford/stanford-corenlp-full-2017-06-09/stanford-corenlp-3.8.0.jar'\n",
    "path_to_models_jar = '/Users/collin/stanford/stanford-corenlp-full-2017-06-09/stanford-corenlp-3.8.0-models.jar'\n",
    "server = CoreNLPServer(path_to_jar=path_to_jar, path_to_models_jar=path_to_models_jar)\n",
    "server.start()\n",
    "dependency_parser = CoreNLPDependencyParser()'''"
   ]
  },
  {
   "cell_type": "code",
   "execution_count": 16,
   "metadata": {
    "collapsed": false
   },
   "outputs": [
    {
     "ename": "NameError",
     "evalue": "name 'dependency_parser' is not defined",
     "output_type": "error",
     "traceback": [
      "\u001b[0;31m---------------------------------------------------------------------------\u001b[0m",
      "\u001b[0;31mNameError\u001b[0m                                 Traceback (most recent call last)",
      "\u001b[0;32m<ipython-input-16-ddb0e9dabb35>\u001b[0m in \u001b[0;36m<module>\u001b[0;34m()\u001b[0m\n\u001b[0;32m----> 1\u001b[0;31m \u001b[0mresult\u001b[0m \u001b[0;34m=\u001b[0m \u001b[0mdependency_parser\u001b[0m\u001b[0;34m.\u001b[0m\u001b[0mraw_parse\u001b[0m\u001b[0;34m(\u001b[0m\u001b[0ms\u001b[0m\u001b[0;34m)\u001b[0m\u001b[0;34m\u001b[0m\u001b[0m\n\u001b[0m\u001b[1;32m      2\u001b[0m \u001b[0mdep\u001b[0m \u001b[0;34m=\u001b[0m \u001b[0mnext\u001b[0m\u001b[0;34m(\u001b[0m\u001b[0mresult\u001b[0m\u001b[0;34m)\u001b[0m\u001b[0;34m\u001b[0m\u001b[0m\n\u001b[1;32m      3\u001b[0m \u001b[0mdep_list\u001b[0m \u001b[0;34m=\u001b[0m \u001b[0mdict\u001b[0m\u001b[0;34m(\u001b[0m\u001b[0msorted\u001b[0m\u001b[0;34m(\u001b[0m\u001b[0mdep\u001b[0m\u001b[0;34m.\u001b[0m\u001b[0mnodes\u001b[0m\u001b[0;34m.\u001b[0m\u001b[0mitems\u001b[0m\u001b[0;34m(\u001b[0m\u001b[0;34m)\u001b[0m\u001b[0;34m)\u001b[0m\u001b[0;34m)\u001b[0m\u001b[0;34m\u001b[0m\u001b[0m\n\u001b[1;32m      4\u001b[0m \u001b[0mprint\u001b[0m\u001b[0;34m(\u001b[0m\u001b[0mdep_list\u001b[0m\u001b[0;34m)\u001b[0m\u001b[0;34m\u001b[0m\u001b[0m\n\u001b[1;32m      5\u001b[0m \u001b[0;32mfor\u001b[0m \u001b[0m_\u001b[0m\u001b[0;34m,\u001b[0m \u001b[0mnode\u001b[0m \u001b[0;32min\u001b[0m \u001b[0msorted\u001b[0m\u001b[0;34m(\u001b[0m\u001b[0mdep\u001b[0m\u001b[0;34m.\u001b[0m\u001b[0mnodes\u001b[0m\u001b[0;34m.\u001b[0m\u001b[0mitems\u001b[0m\u001b[0;34m(\u001b[0m\u001b[0;34m)\u001b[0m\u001b[0;34m)\u001b[0m\u001b[0;34m:\u001b[0m\u001b[0;34m\u001b[0m\u001b[0m\n",
      "\u001b[0;31mNameError\u001b[0m: name 'dependency_parser' is not defined"
     ]
    }
   ],
   "source": [
    "result = dependency_parser.raw_parse(s)\n",
    "dep = next(result)\n",
    "dep_list = dict(sorted(dep.nodes.items()))\n",
    "print(dep_list)\n",
    "for _, node in sorted(dep.nodes.items()):\n",
    "    print(node)\n",
    "    oo"
   ]
  },
  {
   "cell_type": "code",
   "execution_count": 17,
   "metadata": {
    "collapsed": true
   },
   "outputs": [],
   "source": [
    "def dict_update(target_dict, new_w, word):\n",
    "    if new_w in target_dict.keys():\n",
    "        target_dict[new_w].append(word)\n",
    "    else:\n",
    "        target_dict[new_w] = [word]\n",
    "def extract_target_phase(target_dict, s):\n",
    "    ##parse the sentence\n",
    "    result = dependency_parser.raw_parse(s)\n",
    "    dep = next(result)\n",
    "    dep_list = dict(sorted(dep.nodes.items()))\n",
    "\n",
    "    for _, node in sorted(dep.nodes.items()):\n",
    "         if node['word'] is not None:\n",
    "            w = stem(node['word'])\n",
    "            dep_dict = dict(node['deps'])\n",
    "            if w in target_list and node['tag'][:2] == 'NN' and 'compound' in dep_dict.keys():\n",
    "                #print(w)\n",
    "                new_w =''\n",
    "                word = ''\n",
    "                for index in dep_dict['compound']:\n",
    "                    comp_word = dep_list[index]['word']\n",
    "                    comp_w = stem(comp_word)\n",
    "                    new_w = new_w + ' ' + comp_w\n",
    "                    word = word + ' ' + comp_word\n",
    "                new_w = new_w + ' ' + w\n",
    "                word = word + ' ' + node['word']\n",
    "                dict_update(target_dict, new_w, word)\n",
    "            elif w in target_list and node['tag'][:2] == 'NN' and node['rel'] !='compound':\n",
    "                dict_update(target_dict, w, node['word'])\n",
    "\n",
    "def update_target(sents):\n",
    "    target_d = {}\n",
    "    sent_list = sent_tokenize(sents)\n",
    "    for sent in sent_list:\n",
    "        extract_target_phase(target_d,sent)\n",
    "    for key in target_d.keys():\n",
    "        target_d[key] = list(set(target_d[key]))\n",
    "    return target_d"
   ]
  },
  {
   "cell_type": "code",
   "execution_count": 18,
   "metadata": {
    "collapsed": false
   },
   "outputs": [
    {
     "ename": "NameError",
     "evalue": "name 'dependency_parser' is not defined",
     "output_type": "error",
     "traceback": [
      "\u001b[0;31m---------------------------------------------------------------------------\u001b[0m",
      "\u001b[0;31mNameError\u001b[0m                                 Traceback (most recent call last)",
      "\u001b[0;32m<ipython-input-18-a048dff016e0>\u001b[0m in \u001b[0;36m<module>\u001b[0;34m()\u001b[0m\n\u001b[1;32m      6\u001b[0m \u001b[0mlines\u001b[0m \u001b[0;34m=\u001b[0m \u001b[0mf2\u001b[0m\u001b[0;34m.\u001b[0m\u001b[0mreadlines\u001b[0m\u001b[0;34m(\u001b[0m\u001b[0;34m)\u001b[0m\u001b[0;34m\u001b[0m\u001b[0m\n\u001b[1;32m      7\u001b[0m \u001b[0mtarget_list\u001b[0m \u001b[0;34m=\u001b[0m \u001b[0;34m[\u001b[0m\u001b[0mline\u001b[0m\u001b[0;34m.\u001b[0m\u001b[0msplit\u001b[0m\u001b[0;34m(\u001b[0m\u001b[0;34m\"\\n\"\u001b[0m\u001b[0;34m)\u001b[0m\u001b[0;34m[\u001b[0m\u001b[0;36m0\u001b[0m\u001b[0;34m]\u001b[0m \u001b[0;32mfor\u001b[0m \u001b[0mline\u001b[0m \u001b[0;32min\u001b[0m \u001b[0mlines\u001b[0m\u001b[0;34m]\u001b[0m\u001b[0;34m\u001b[0m\u001b[0m\n\u001b[0;32m----> 8\u001b[0;31m \u001b[0mupdate_target\u001b[0m\u001b[0;34m(\u001b[0m\u001b[0ms\u001b[0m\u001b[0;34m)\u001b[0m\u001b[0;34m\u001b[0m\u001b[0m\n\u001b[0m",
      "\u001b[0;32m<ipython-input-17-451296aab057>\u001b[0m in \u001b[0;36mupdate_target\u001b[0;34m(sents)\u001b[0m\n\u001b[1;32m     33\u001b[0m     \u001b[0msent_list\u001b[0m \u001b[0;34m=\u001b[0m \u001b[0msent_tokenize\u001b[0m\u001b[0;34m(\u001b[0m\u001b[0msents\u001b[0m\u001b[0;34m)\u001b[0m\u001b[0;34m\u001b[0m\u001b[0m\n\u001b[1;32m     34\u001b[0m     \u001b[0;32mfor\u001b[0m \u001b[0msent\u001b[0m \u001b[0;32min\u001b[0m \u001b[0msent_list\u001b[0m\u001b[0;34m:\u001b[0m\u001b[0;34m\u001b[0m\u001b[0m\n\u001b[0;32m---> 35\u001b[0;31m         \u001b[0mextract_target_phase\u001b[0m\u001b[0;34m(\u001b[0m\u001b[0mtarget_d\u001b[0m\u001b[0;34m,\u001b[0m\u001b[0msent\u001b[0m\u001b[0;34m)\u001b[0m\u001b[0;34m\u001b[0m\u001b[0m\n\u001b[0m\u001b[1;32m     36\u001b[0m     \u001b[0;32mfor\u001b[0m \u001b[0mkey\u001b[0m \u001b[0;32min\u001b[0m \u001b[0mtarget_d\u001b[0m\u001b[0;34m.\u001b[0m\u001b[0mkeys\u001b[0m\u001b[0;34m(\u001b[0m\u001b[0;34m)\u001b[0m\u001b[0;34m:\u001b[0m\u001b[0;34m\u001b[0m\u001b[0m\n\u001b[1;32m     37\u001b[0m         \u001b[0mtarget_d\u001b[0m\u001b[0;34m[\u001b[0m\u001b[0mkey\u001b[0m\u001b[0;34m]\u001b[0m \u001b[0;34m=\u001b[0m \u001b[0mlist\u001b[0m\u001b[0;34m(\u001b[0m\u001b[0mset\u001b[0m\u001b[0;34m(\u001b[0m\u001b[0mtarget_d\u001b[0m\u001b[0;34m[\u001b[0m\u001b[0mkey\u001b[0m\u001b[0;34m]\u001b[0m\u001b[0;34m)\u001b[0m\u001b[0;34m)\u001b[0m\u001b[0;34m\u001b[0m\u001b[0m\n",
      "\u001b[0;32m<ipython-input-17-451296aab057>\u001b[0m in \u001b[0;36mextract_target_phase\u001b[0;34m(target_dict, s)\u001b[0m\n\u001b[1;32m      6\u001b[0m \u001b[0;32mdef\u001b[0m \u001b[0mextract_target_phase\u001b[0m\u001b[0;34m(\u001b[0m\u001b[0mtarget_dict\u001b[0m\u001b[0;34m,\u001b[0m \u001b[0ms\u001b[0m\u001b[0;34m)\u001b[0m\u001b[0;34m:\u001b[0m\u001b[0;34m\u001b[0m\u001b[0m\n\u001b[1;32m      7\u001b[0m     \u001b[0;31m##parse the sentence\u001b[0m\u001b[0;34m\u001b[0m\u001b[0;34m\u001b[0m\u001b[0m\n\u001b[0;32m----> 8\u001b[0;31m     \u001b[0mresult\u001b[0m \u001b[0;34m=\u001b[0m \u001b[0mdependency_parser\u001b[0m\u001b[0;34m.\u001b[0m\u001b[0mraw_parse\u001b[0m\u001b[0;34m(\u001b[0m\u001b[0ms\u001b[0m\u001b[0;34m)\u001b[0m\u001b[0;34m\u001b[0m\u001b[0m\n\u001b[0m\u001b[1;32m      9\u001b[0m     \u001b[0mdep\u001b[0m \u001b[0;34m=\u001b[0m \u001b[0mnext\u001b[0m\u001b[0;34m(\u001b[0m\u001b[0mresult\u001b[0m\u001b[0;34m)\u001b[0m\u001b[0;34m\u001b[0m\u001b[0m\n\u001b[1;32m     10\u001b[0m     \u001b[0mdep_list\u001b[0m \u001b[0;34m=\u001b[0m \u001b[0mdict\u001b[0m\u001b[0;34m(\u001b[0m\u001b[0msorted\u001b[0m\u001b[0;34m(\u001b[0m\u001b[0mdep\u001b[0m\u001b[0;34m.\u001b[0m\u001b[0mnodes\u001b[0m\u001b[0;34m.\u001b[0m\u001b[0mitems\u001b[0m\u001b[0;34m(\u001b[0m\u001b[0;34m)\u001b[0m\u001b[0;34m)\u001b[0m\u001b[0;34m)\u001b[0m\u001b[0;34m\u001b[0m\u001b[0m\n",
      "\u001b[0;31mNameError\u001b[0m: name 'dependency_parser' is not defined"
     ]
    }
   ],
   "source": [
    "f1 = open('opinion_list_1.txt','r')\n",
    "lines = f1.readlines()\n",
    "opinion_list =[line.split(\"\\n\")[0] for line in lines]\n",
    "\n",
    "f2 = open('target_list_1.txt','r')\n",
    "lines = f2.readlines()\n",
    "target_list = [line.split(\"\\n\")[0] for line in lines]\n",
    "update_target(s)"
   ]
  },
  {
   "cell_type": "code",
   "execution_count": 81,
   "metadata": {
    "collapsed": true
   },
   "outputs": [],
   "source": [
    "server.stop() "
   ]
  },
  {
   "cell_type": "code",
   "execution_count": null,
   "metadata": {
    "collapsed": true
   },
   "outputs": [],
   "source": []
  }
 ],
 "metadata": {
  "kernelspec": {
   "display_name": "Python 3",
   "language": "python",
   "name": "python3"
  },
  "language_info": {
   "codemirror_mode": {
    "name": "ipython",
    "version": 3
   },
   "file_extension": ".py",
   "mimetype": "text/x-python",
   "name": "python",
   "nbconvert_exporter": "python",
   "pygments_lexer": "ipython3",
   "version": "3.6.0"
  }
 },
 "nbformat": 4,
 "nbformat_minor": 1
}
