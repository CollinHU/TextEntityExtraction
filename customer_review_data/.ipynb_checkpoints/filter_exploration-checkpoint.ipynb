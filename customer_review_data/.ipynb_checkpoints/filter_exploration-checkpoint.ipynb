{
 "cells": [
  {
   "cell_type": "code",
   "execution_count": 1,
   "metadata": {
    "collapsed": true
   },
   "outputs": [],
   "source": [
    "import pandas as pd\n",
    "import numpy as np\n",
    "import nltk\n",
    "from nltk import sent_tokenize,word_tokenize, pos_tag, ne_chunk\n",
    "from nltk.stem.snowball import SnowballStemmer\n",
    "from nltk.stem import WordNetLemmatizer\n",
    "from nltk import wordpunct_tokenize\n",
    "import re\n",
    "from nltk.corpus import stopwords\n",
    "import pandas as pd\n",
    "\n",
    "stemmer = SnowballStemmer('english')\n",
    "def stem(w):\n",
    "    return stemmer.stem(w)"
   ]
  },
  {
   "cell_type": "code",
   "execution_count": 2,
   "metadata": {
    "collapsed": true
   },
   "outputs": [],
   "source": [
    "\n",
    "def process_sentence(s):\n",
    "        s = re.sub(r' \\.', ' ',s)\n",
    "        s = re.sub(r'#+',' ',s)\n",
    "        s = re.sub(r'\\*+',' ',s)\n",
    "        s = re.sub(r'_+',' ',s)\n",
    "        s = re.sub(r':+',' ',s)\n",
    "        s = re.sub(r'\\(+',' ',s)\n",
    "        s = re.sub(r'\\)+',' ',s)\n",
    "        s = re.sub(r'\\|+',' ',s)\n",
    "        s = re.sub(r'\\\\\\w+',' ',s)\n",
    "        s = re.sub(r'=',' ',s)\n",
    "        s = re.sub(r'/+',' ',s)\n",
    "        s = re.sub(r'\\\\+',' ',s)\n",
    "        s = re.sub(r'[^\\x00-\\x7f]',' ', s)\n",
    "        #s = re.sub(r'[[:digit:]]',' ',s)\n",
    "        s = re.sub(r'\\s+',' ',s)\n",
    "        return s"
   ]
  },
  {
   "cell_type": "code",
   "execution_count": 2,
   "metadata": {
    "collapsed": false
   },
   "outputs": [
    {
     "ename": "FileNotFoundError",
     "evalue": "File b'transactions.csv' does not exist",
     "output_type": "error",
     "traceback": [
      "\u001b[0;31m---------------------------------------------------------------------------\u001b[0m",
      "\u001b[0;31mFileNotFoundError\u001b[0m                         Traceback (most recent call last)",
      "\u001b[0;32m<ipython-input-2-de813ec0591a>\u001b[0m in \u001b[0;36m<module>\u001b[0;34m()\u001b[0m\n\u001b[0;32m----> 1\u001b[0;31m \u001b[0mtransaction\u001b[0m \u001b[0;34m=\u001b[0m \u001b[0mpd\u001b[0m\u001b[0;34m.\u001b[0m\u001b[0mread_csv\u001b[0m\u001b[0;34m(\u001b[0m\u001b[0;34m'transactions.csv'\u001b[0m\u001b[0;34m,\u001b[0m\u001b[0mindex_col\u001b[0m \u001b[0;34m=\u001b[0m \u001b[0;36m0\u001b[0m\u001b[0;34m)\u001b[0m\u001b[0;34m\u001b[0m\u001b[0m\n\u001b[0m\u001b[1;32m      2\u001b[0m \u001b[0mtransaction\u001b[0m\u001b[0;34m.\u001b[0m\u001b[0mhead\u001b[0m\u001b[0;34m(\u001b[0m\u001b[0;34m)\u001b[0m\u001b[0;34m\u001b[0m\u001b[0m\n",
      "\u001b[0;32m/Users/collin/anaconda/lib/python3.6/site-packages/pandas/io/parsers.py\u001b[0m in \u001b[0;36mparser_f\u001b[0;34m(filepath_or_buffer, sep, delimiter, header, names, index_col, usecols, squeeze, prefix, mangle_dupe_cols, dtype, engine, converters, true_values, false_values, skipinitialspace, skiprows, nrows, na_values, keep_default_na, na_filter, verbose, skip_blank_lines, parse_dates, infer_datetime_format, keep_date_col, date_parser, dayfirst, iterator, chunksize, compression, thousands, decimal, lineterminator, quotechar, quoting, escapechar, comment, encoding, dialect, tupleize_cols, error_bad_lines, warn_bad_lines, skipfooter, skip_footer, doublequote, delim_whitespace, as_recarray, compact_ints, use_unsigned, low_memory, buffer_lines, memory_map, float_precision)\u001b[0m\n\u001b[1;32m    644\u001b[0m                     skip_blank_lines=skip_blank_lines)\n\u001b[1;32m    645\u001b[0m \u001b[0;34m\u001b[0m\u001b[0m\n\u001b[0;32m--> 646\u001b[0;31m         \u001b[0;32mreturn\u001b[0m \u001b[0m_read\u001b[0m\u001b[0;34m(\u001b[0m\u001b[0mfilepath_or_buffer\u001b[0m\u001b[0;34m,\u001b[0m \u001b[0mkwds\u001b[0m\u001b[0;34m)\u001b[0m\u001b[0;34m\u001b[0m\u001b[0m\n\u001b[0m\u001b[1;32m    647\u001b[0m \u001b[0;34m\u001b[0m\u001b[0m\n\u001b[1;32m    648\u001b[0m     \u001b[0mparser_f\u001b[0m\u001b[0;34m.\u001b[0m\u001b[0m__name__\u001b[0m \u001b[0;34m=\u001b[0m \u001b[0mname\u001b[0m\u001b[0;34m\u001b[0m\u001b[0m\n",
      "\u001b[0;32m/Users/collin/anaconda/lib/python3.6/site-packages/pandas/io/parsers.py\u001b[0m in \u001b[0;36m_read\u001b[0;34m(filepath_or_buffer, kwds)\u001b[0m\n\u001b[1;32m    387\u001b[0m \u001b[0;34m\u001b[0m\u001b[0m\n\u001b[1;32m    388\u001b[0m     \u001b[0;31m# Create the parser.\u001b[0m\u001b[0;34m\u001b[0m\u001b[0;34m\u001b[0m\u001b[0m\n\u001b[0;32m--> 389\u001b[0;31m     \u001b[0mparser\u001b[0m \u001b[0;34m=\u001b[0m \u001b[0mTextFileReader\u001b[0m\u001b[0;34m(\u001b[0m\u001b[0mfilepath_or_buffer\u001b[0m\u001b[0;34m,\u001b[0m \u001b[0;34m**\u001b[0m\u001b[0mkwds\u001b[0m\u001b[0;34m)\u001b[0m\u001b[0;34m\u001b[0m\u001b[0m\n\u001b[0m\u001b[1;32m    390\u001b[0m \u001b[0;34m\u001b[0m\u001b[0m\n\u001b[1;32m    391\u001b[0m     \u001b[0;32mif\u001b[0m \u001b[0;34m(\u001b[0m\u001b[0mnrows\u001b[0m \u001b[0;32mis\u001b[0m \u001b[0;32mnot\u001b[0m \u001b[0;32mNone\u001b[0m\u001b[0;34m)\u001b[0m \u001b[0;32mand\u001b[0m \u001b[0;34m(\u001b[0m\u001b[0mchunksize\u001b[0m \u001b[0;32mis\u001b[0m \u001b[0;32mnot\u001b[0m \u001b[0;32mNone\u001b[0m\u001b[0;34m)\u001b[0m\u001b[0;34m:\u001b[0m\u001b[0;34m\u001b[0m\u001b[0m\n",
      "\u001b[0;32m/Users/collin/anaconda/lib/python3.6/site-packages/pandas/io/parsers.py\u001b[0m in \u001b[0;36m__init__\u001b[0;34m(self, f, engine, **kwds)\u001b[0m\n\u001b[1;32m    728\u001b[0m             \u001b[0mself\u001b[0m\u001b[0;34m.\u001b[0m\u001b[0moptions\u001b[0m\u001b[0;34m[\u001b[0m\u001b[0;34m'has_index_names'\u001b[0m\u001b[0;34m]\u001b[0m \u001b[0;34m=\u001b[0m \u001b[0mkwds\u001b[0m\u001b[0;34m[\u001b[0m\u001b[0;34m'has_index_names'\u001b[0m\u001b[0;34m]\u001b[0m\u001b[0;34m\u001b[0m\u001b[0m\n\u001b[1;32m    729\u001b[0m \u001b[0;34m\u001b[0m\u001b[0m\n\u001b[0;32m--> 730\u001b[0;31m         \u001b[0mself\u001b[0m\u001b[0;34m.\u001b[0m\u001b[0m_make_engine\u001b[0m\u001b[0;34m(\u001b[0m\u001b[0mself\u001b[0m\u001b[0;34m.\u001b[0m\u001b[0mengine\u001b[0m\u001b[0;34m)\u001b[0m\u001b[0;34m\u001b[0m\u001b[0m\n\u001b[0m\u001b[1;32m    731\u001b[0m \u001b[0;34m\u001b[0m\u001b[0m\n\u001b[1;32m    732\u001b[0m     \u001b[0;32mdef\u001b[0m \u001b[0mclose\u001b[0m\u001b[0;34m(\u001b[0m\u001b[0mself\u001b[0m\u001b[0;34m)\u001b[0m\u001b[0;34m:\u001b[0m\u001b[0;34m\u001b[0m\u001b[0m\n",
      "\u001b[0;32m/Users/collin/anaconda/lib/python3.6/site-packages/pandas/io/parsers.py\u001b[0m in \u001b[0;36m_make_engine\u001b[0;34m(self, engine)\u001b[0m\n\u001b[1;32m    921\u001b[0m     \u001b[0;32mdef\u001b[0m \u001b[0m_make_engine\u001b[0m\u001b[0;34m(\u001b[0m\u001b[0mself\u001b[0m\u001b[0;34m,\u001b[0m \u001b[0mengine\u001b[0m\u001b[0;34m=\u001b[0m\u001b[0;34m'c'\u001b[0m\u001b[0;34m)\u001b[0m\u001b[0;34m:\u001b[0m\u001b[0;34m\u001b[0m\u001b[0m\n\u001b[1;32m    922\u001b[0m         \u001b[0;32mif\u001b[0m \u001b[0mengine\u001b[0m \u001b[0;34m==\u001b[0m \u001b[0;34m'c'\u001b[0m\u001b[0;34m:\u001b[0m\u001b[0;34m\u001b[0m\u001b[0m\n\u001b[0;32m--> 923\u001b[0;31m             \u001b[0mself\u001b[0m\u001b[0;34m.\u001b[0m\u001b[0m_engine\u001b[0m \u001b[0;34m=\u001b[0m \u001b[0mCParserWrapper\u001b[0m\u001b[0;34m(\u001b[0m\u001b[0mself\u001b[0m\u001b[0;34m.\u001b[0m\u001b[0mf\u001b[0m\u001b[0;34m,\u001b[0m \u001b[0;34m**\u001b[0m\u001b[0mself\u001b[0m\u001b[0;34m.\u001b[0m\u001b[0moptions\u001b[0m\u001b[0;34m)\u001b[0m\u001b[0;34m\u001b[0m\u001b[0m\n\u001b[0m\u001b[1;32m    924\u001b[0m         \u001b[0;32melse\u001b[0m\u001b[0;34m:\u001b[0m\u001b[0;34m\u001b[0m\u001b[0m\n\u001b[1;32m    925\u001b[0m             \u001b[0;32mif\u001b[0m \u001b[0mengine\u001b[0m \u001b[0;34m==\u001b[0m \u001b[0;34m'python'\u001b[0m\u001b[0;34m:\u001b[0m\u001b[0;34m\u001b[0m\u001b[0m\n",
      "\u001b[0;32m/Users/collin/anaconda/lib/python3.6/site-packages/pandas/io/parsers.py\u001b[0m in \u001b[0;36m__init__\u001b[0;34m(self, src, **kwds)\u001b[0m\n\u001b[1;32m   1388\u001b[0m         \u001b[0mkwds\u001b[0m\u001b[0;34m[\u001b[0m\u001b[0;34m'allow_leading_cols'\u001b[0m\u001b[0;34m]\u001b[0m \u001b[0;34m=\u001b[0m \u001b[0mself\u001b[0m\u001b[0;34m.\u001b[0m\u001b[0mindex_col\u001b[0m \u001b[0;32mis\u001b[0m \u001b[0;32mnot\u001b[0m \u001b[0;32mFalse\u001b[0m\u001b[0;34m\u001b[0m\u001b[0m\n\u001b[1;32m   1389\u001b[0m \u001b[0;34m\u001b[0m\u001b[0m\n\u001b[0;32m-> 1390\u001b[0;31m         \u001b[0mself\u001b[0m\u001b[0;34m.\u001b[0m\u001b[0m_reader\u001b[0m \u001b[0;34m=\u001b[0m \u001b[0m_parser\u001b[0m\u001b[0;34m.\u001b[0m\u001b[0mTextReader\u001b[0m\u001b[0;34m(\u001b[0m\u001b[0msrc\u001b[0m\u001b[0;34m,\u001b[0m \u001b[0;34m**\u001b[0m\u001b[0mkwds\u001b[0m\u001b[0;34m)\u001b[0m\u001b[0;34m\u001b[0m\u001b[0m\n\u001b[0m\u001b[1;32m   1391\u001b[0m \u001b[0;34m\u001b[0m\u001b[0m\n\u001b[1;32m   1392\u001b[0m         \u001b[0;31m# XXX\u001b[0m\u001b[0;34m\u001b[0m\u001b[0;34m\u001b[0m\u001b[0m\n",
      "\u001b[0;32mpandas/parser.pyx\u001b[0m in \u001b[0;36mpandas.parser.TextReader.__cinit__ (pandas/parser.c:4184)\u001b[0;34m()\u001b[0m\n",
      "\u001b[0;32mpandas/parser.pyx\u001b[0m in \u001b[0;36mpandas.parser.TextReader._setup_parser_source (pandas/parser.c:8449)\u001b[0;34m()\u001b[0m\n",
      "\u001b[0;31mFileNotFoundError\u001b[0m: File b'transactions.csv' does not exist"
     ]
    }
   ],
   "source": [
    "transaction = pd.read_csv('transactions.csv',index_col = 0)\n",
    "transaction.head()"
   ]
  },
  {
   "cell_type": "code",
   "execution_count": 3,
   "metadata": {
    "collapsed": false
   },
   "outputs": [
    {
     "data": {
      "text/html": [
       "<div>\n",
       "<table border=\"1\" class=\"dataframe\">\n",
       "  <thead>\n",
       "    <tr style=\"text-align: right;\">\n",
       "      <th></th>\n",
       "      <th>comment</th>\n",
       "      <th>target</th>\n",
       "    </tr>\n",
       "  </thead>\n",
       "  <tbody>\n",
       "    <tr>\n",
       "      <th>0</th>\n",
       "      <td>excellent picture quality color i recently pur...</td>\n",
       "      <td>{'pictur qualiti color': ['picture quality col...</td>\n",
       "    </tr>\n",
       "    <tr>\n",
       "      <th>1</th>\n",
       "      <td>cool toyyep this is my first digital camera , ...</td>\n",
       "      <td>{'toyyep': ['toyyep'], 'camera': ['camera'], '...</td>\n",
       "    </tr>\n",
       "    <tr>\n",
       "      <th>2</th>\n",
       "      <td>canon g3 ? incredible camera i did extensive r...</td>\n",
       "      <td>{'canon g3': ['canon g3'], 'camera': ['camera'...</td>\n",
       "    </tr>\n",
       "    <tr>\n",
       "      <th>3</th>\n",
       "      <td>great camera i bought my canon g3 about a mont...</td>\n",
       "      <td>{'camera': ['camera', 'cameras'], 'canon g3': ...</td>\n",
       "    </tr>\n",
       "    <tr>\n",
       "      <th>4</th>\n",
       "      <td>have n't had practice but i 'm already in love...</td>\n",
       "      <td>{'practic': ['practice'], 'love': ['love'], 'c...</td>\n",
       "    </tr>\n",
       "  </tbody>\n",
       "</table>\n",
       "</div>"
      ],
      "text/plain": [
       "                                             comment  \\\n",
       "0  excellent picture quality color i recently pur...   \n",
       "1  cool toyyep this is my first digital camera , ...   \n",
       "2  canon g3 ? incredible camera i did extensive r...   \n",
       "3  great camera i bought my canon g3 about a mont...   \n",
       "4  have n't had practice but i 'm already in love...   \n",
       "\n",
       "                                              target  \n",
       "0  {'pictur qualiti color': ['picture quality col...  \n",
       "1  {'toyyep': ['toyyep'], 'camera': ['camera'], '...  \n",
       "2  {'canon g3': ['canon g3'], 'camera': ['camera'...  \n",
       "3  {'camera': ['camera', 'cameras'], 'canon g3': ...  \n",
       "4  {'practic': ['practice'], 'love': ['love'], 'c...  "
      ]
     },
     "execution_count": 3,
     "metadata": {},
     "output_type": "execute_result"
    }
   ],
   "source": [
    "new_transaction = pd.read_csv('transaction_v3.csv',index_col = 0)\n",
    "new_transaction.head()"
   ]
  },
  {
   "cell_type": "code",
   "execution_count": 4,
   "metadata": {
    "collapsed": false
   },
   "outputs": [
    {
     "ename": "NameError",
     "evalue": "name 'transaction' is not defined",
     "output_type": "error",
     "traceback": [
      "\u001b[0;31m---------------------------------------------------------------------------\u001b[0m",
      "\u001b[0;31mNameError\u001b[0m                                 Traceback (most recent call last)",
      "\u001b[0;32m<ipython-input-4-d3d7498ba1c2>\u001b[0m in \u001b[0;36m<module>\u001b[0;34m()\u001b[0m\n\u001b[0;32m----> 1\u001b[0;31m \u001b[0mtargets\u001b[0m \u001b[0;34m=\u001b[0m \u001b[0mtransaction\u001b[0m\u001b[0;34m[\u001b[0m\u001b[0;34m'target'\u001b[0m\u001b[0;34m]\u001b[0m\u001b[0;34m.\u001b[0m\u001b[0mvalues\u001b[0m\u001b[0;34m\u001b[0m\u001b[0m\n\u001b[0m\u001b[1;32m      2\u001b[0m \u001b[0msize\u001b[0m \u001b[0;34m=\u001b[0m \u001b[0mlen\u001b[0m\u001b[0;34m(\u001b[0m\u001b[0mtargets\u001b[0m\u001b[0;34m)\u001b[0m\u001b[0;34m\u001b[0m\u001b[0m\n\u001b[1;32m      3\u001b[0m \u001b[0mG_dict\u001b[0m \u001b[0;34m=\u001b[0m \u001b[0;34m{\u001b[0m\u001b[0;34m}\u001b[0m\u001b[0;34m\u001b[0m\u001b[0m\n\u001b[1;32m      4\u001b[0m \u001b[0;32mfor\u001b[0m \u001b[0mi\u001b[0m \u001b[0;32min\u001b[0m \u001b[0mrange\u001b[0m\u001b[0;34m(\u001b[0m\u001b[0msize\u001b[0m\u001b[0;34m)\u001b[0m\u001b[0;34m:\u001b[0m\u001b[0;34m\u001b[0m\u001b[0m\n\u001b[1;32m      5\u001b[0m     \u001b[0mL_dict\u001b[0m \u001b[0;34m=\u001b[0m \u001b[0meval\u001b[0m\u001b[0;34m(\u001b[0m\u001b[0mtargets\u001b[0m\u001b[0;34m[\u001b[0m\u001b[0mi\u001b[0m\u001b[0;34m]\u001b[0m\u001b[0;34m)\u001b[0m\u001b[0;34m\u001b[0m\u001b[0m\n",
      "\u001b[0;31mNameError\u001b[0m: name 'transaction' is not defined"
     ]
    }
   ],
   "source": [
    "targets = transaction['target'].values\n",
    "size = len(targets)\n",
    "G_dict = {}\n",
    "for i in range(size):\n",
    "    L_dict = eval(targets[i])\n",
    "    for key in L_dict.keys():\n",
    "        G_dict[key] = G_dict.get(key, 0) + 1"
   ]
  },
  {
   "cell_type": "code",
   "execution_count": 5,
   "metadata": {
    "collapsed": false
   },
   "outputs": [
    {
     "ename": "NameError",
     "evalue": "name 'G_dict' is not defined",
     "output_type": "error",
     "traceback": [
      "\u001b[0;31m---------------------------------------------------------------------------\u001b[0m",
      "\u001b[0;31mNameError\u001b[0m                                 Traceback (most recent call last)",
      "\u001b[0;32m<ipython-input-5-0fff8bb2be55>\u001b[0m in \u001b[0;36m<module>\u001b[0;34m()\u001b[0m\n\u001b[0;32m----> 1\u001b[0;31m \u001b[0mG_dict\u001b[0m\u001b[0;34m\u001b[0m\u001b[0m\n\u001b[0m",
      "\u001b[0;31mNameError\u001b[0m: name 'G_dict' is not defined"
     ]
    }
   ],
   "source": [
    "G_dict"
   ]
  },
  {
   "cell_type": "code",
   "execution_count": 56,
   "metadata": {
    "collapsed": false
   },
   "outputs": [
    {
     "name": "stdout",
     "output_type": "stream",
     "text": [
      "{'cours': 69, 'lot': 9, 'thank': 5, 'code': 4, 'algorithm': 6, 'intuit': 2, 'instructor': 6, 'capston': 6, 'project': 3, 'stuff': 2, 'topic': 8, 'part': 3, 'lda': 5, 'cluster': 10, 'retriev': 4, 'concept': 8, 'emili': 6, 'knowledg': 4, 'peopl': 3, 'teacher': 2, 'book': 2, 'qualiti': 2, 'depth': 3, 'special': 10, 'machin': 9, 'learn': 10, 'understand': 5, 'ml': 8, 'math': 3, 'background': 4, 'tool': 2, 'lab': 2, 'foundat': 3, 'assign': 6, 'materi': 12, 'way': 2, 'time': 4, 'week': 3, 'method': 2, 'feedback': 2, 'learner': 2, 'pace': 2, 'carlo': 4, 'insight': 3, 'fox': 2, 'job': 2, 'bit': 3, 'theori': 3, 'techniqu': 2, 'detail': 3, 'idea': 2, 'content': 4, 'explan': 4, 'read': 2, 'task': 2, 'subject': 2}\n",
      "56\n"
     ]
    }
   ],
   "source": [
    "new_dict = {}\n",
    "for key in G_dict.keys():\n",
    "    if G_dict[key] >= 2:\n",
    "        new_dict[key] = G_dict[key]\n",
    "print(new_dict)\n",
    "print(len(new_dict))"
   ]
  },
  {
   "cell_type": "code",
   "execution_count": 6,
   "metadata": {
    "collapsed": true
   },
   "outputs": [],
   "source": [
    "targets = new_transaction['target'].values\n",
    "size = len(targets)\n",
    "G_dict = {}\n",
    "for i in range(size):\n",
    "    L_dict = eval(targets[i])\n",
    "    for key in L_dict.keys():\n",
    "        G_dict[key] = G_dict.get(key, 0) + 1"
   ]
  },
  {
   "cell_type": "code",
   "execution_count": 7,
   "metadata": {
    "collapsed": false
   },
   "outputs": [
    {
     "name": "stdout",
     "output_type": "stream",
     "text": [
      "448\n",
      "704\n",
      "{'purchas': ['purchas'], 'camera': ['camera', 'camera line', 'megapixel camera', 'camera review site', 'slr camera', 'mp camera', 'use camera', 'canon camera', 'nikon f100 film camera', 'adob photoshop camera', 'adob camera', 'camera limit', 'pro-sum camera', 'fuji fps602 camera', 'canon g3 camera', 'camera friend', 'film camera', 'g3 camera', 'eo film camera', 'camera len', 'megapixel 4x zoom camera', 'olympus camera', 'camera experi', 'brass camera', 'camera bag', 'handbag camera', 'connet camera', 'r camera', 'megapixel camera canon'], 'fact': ['fact'], 'trip': ['trip'], 'week': ['week'], 'pictur': ['pictur', 'pictur qualiti color', 'pictur qualiti', 'qualiti pictur', 'zoom pictur', 'millisecond pictur', 'stitch pictur', 'max pictur qualiti', 'perform pictur qualiti'], 'press': ['press'], 'box': ['box', 'box megapixel'], 'rest': ['rest'], 'way': ['way'], 'g2': ['g2', 'powershot g2'], 'canon': ['canon', 'canon powershot g3', 'job canon', 'canon g3', 'canon g3 anyon', 'canon comput softwar', 'damag i wish canon', 'canon camera', 'canon softwar', 'canon g3 4mp', 'canon g3 camera', 'i canon', 'board canon', 'canon powershot s20', 'research canon', 'canon printer', 'canon flash', 'canon g3 review respons recommend', 'canon servic center', 'canon speedlit', 'megapixel camera canon', 'canon qualiti'], 'x': ['x', 'os x'], 'loss': ['loss'], 'set': ['set', 'auto exposur set', 'set rang', 'exposur set', 'auto set', 'default set', 'factori white-correct set', 'exposure-bracket set'], 'flash': ['flash', 'flash card', 'qualiti flash equip', 'flash problem', 'qualiti flash', 'nikon flash', 'metz flash', 'metz flash head', 'ct-4 flash head', 'flash system', 'ex flash', 'canon flash', 'flash photographi', 'vike flash', 'shoe flash attach', 'flash unit', 'flash capabl'], 'pinch': ['pinch'], 'featur': ['featur', 'enthusiast featur'], 'abil': ['abil', 'shoot abil'], 'anyon': ['anyon', 'canon g3 anyon', 'i challeng anyon'], 'combin': ['combin'], 'eas': ['eas'], 'use': ['use', 'i use', 'use camera'], 'flexibl': ['flexibl', 'flexibl batteri life'], 'option': ['option', 'menu option', 'effect func menu option', 'adjust option shutter prioriti'], 'toyyep': ['toyyep'], 'toy': ['toy', 'plastic toy'], 'detail': ['detail'], 'everyth': ['everyth'], 'month': ['month'], 'g3': ['g3', 'canon powershot g3', 'powershot g3', 'canon g3', 'canon g3 anyon', 'g3 hardwar', 'g3 imag softwar', 'g3 imag', 'canon g3 4mp', 'canon g3 camera', 'g3 camera', 'canon g3 review respons recommend'], 'cent': ['cent'], 'overview': ['overview'], 'megapixel': ['megapixel', 'megapixel camera', 'box megapixel', 'megapixel market hype', 'megapixel digicam', 'megapixel 4x zoom camera', 'megapixel imag', 'megapixel photo', 'megapixel camera canon'], 'touch': ['touch'], 'brillianc': ['brillianc'], 'novic': ['novic'], 'expert': ['expert'], 'function': ['function', 'whoa function', 'function lever'], 'kind': ['kind'], 'len': ['len', 'len cap', 'len zoom lever', 'len cover', 'camera len', 'len barrel', 'zoom len unit', 'len distort', 'shoot len', 'uv len filter', 'len adapt', 'len viewfind', 'telephoto len'], 'storag': ['storag', 'storag type'], 'movi': ['movi'], 'minut': ['minut'], 'choic': ['choic', 'lens filter choic', 'consum choic'], 'type': ['type', 'storag type', 'ibm microdr type'], 'imag': ['imag', 'qualiti imag', 'resolut sampl imag', 'sampl imag', 'imag mode', 'g3 imag softwar', 'imag qualiti', 'g3 imag', 'imag process', 'megapixel imag', 'imag qualiti resolut', 'imag format'], 'thing': ['thing'], 'noth': ['noth'], 'dial': ['dial', 'diopter adjust dial'], 'viewfind': ['viewfind', 'viewfind fan', 'len viewfind', 'lcd viewfind'], 'lcd': ['lcd', 'lcd screen', 'borderu lcd', 'lcd panel', 'camea lcd screen', 'lcd viewfind'], 'research': ['research', 'research canon'], 'coupl': ['coupl'], 'review': ['review', 'camera review site', 'consum report review time', 'record review', 'canon g3 review respons recommend'], 'number': ['number'], 'model': ['model'], 'word': ['word'], 'site': ['site', 'camera review site'], 'dpreview': ['dpreview'], 'depth': ['depth'], 'speed': ['speed', 'shutter speed flaw', 'speed subject', 'film speed', 'shutter speed'], 'autom': ['autom'], 'conveni': ['conveni'], 'mode': ['mode', 'manual focus mode', 'auto mode', 'program mode', 'photo night mode', 'imag mode', 'exposur mode', 'idiot program auto mode', 'view mode'], 'awe': ['awe'], 'qualiti': ['qualiti', 'pictur qualiti color', 'pictur qualiti', 'qualiti pictur', 'qualiti imag', 'qualiti flash equip', 'qualiti flash', 'imag qualiti', 'qualiti photo', 'qualiti pic', 'max pictur qualiti', 'imag qualiti resolut', 'perform pictur qualiti', 'canon qualiti'], 'hundr': ['hundr', 'shot hundr'], 'photo': ['photo', 'photo buff', 'photo night mode', 'photo hobbiest', 'stopact photo', 'close-up photo', 'photo captur', 'qualiti photo', 'photo printer', 'photo life', 'megapixel photo'], 'time': ['time', 'lag time', 'lag time problem', 'shutter releas lag time', 'consum report review time'], 'disappoint': ['disappoint'], 'photographi': ['photographi', 'shoot photographi', 'flash photographi', 'photographi pleas note'], 'practic': ['practic'], 'love': ['love'], 'day': ['day', 'busi day'], 'fun': ['fun'], 'peopl': ['peopl'], 'screen': ['screen', 'lcd screen', 'camea lcd screen'], 'troubl': ['troubl'], 'attent': ['attent'], 'top': ['top'], 'reason': ['reason'], 't': ['t', 't access', 'i t', 't rank'], 'adjust': ['adjust', 'diopter adjust dial', 'diopter adjust', 'fli adjust', 'adjust option shutter prioriti', 'meter adjust'], 'focus': ['focus', 'focus rang', 'manual focus mode', 'focus lock'], 'eyesight': ['eyesight'], 'posit': ['posit'], 'slr': ['slr', 's-1 ap slr', 'slr camera', 'film slr', 'nikon slr'], 'program': ['program', 'program mode', 'idiot program auto mode'], 'latitud': ['latitud'], 'progam': ['progam'], 'meter': ['meter', 'meter adjust'], '4mp': ['4mp', 'canon g3 4mp'], 'result': ['result'], 'film': ['film', 'film zoom p', 'film speed', 'film slrs', 'film slr', 'nikon f100 film camera', 'film camera', 'film process cost', 'eo film camera', 'film point'], 'system': ['system', 'flash system', 'batteri charg system'], 'push': ['push'], 'button': ['button', 'shutter button'], 'negat': ['negat'], 'size': ['size'], 'minolta': ['minolta'], 'batteri': ['batteri', 'batteri life', 'flexibl batteri life', 'backup batteri', 'camcord batteri', 'friend chang batteri', 'batteri power', 'batteri durat', 'litium batteri', 'batteri charg system'], 'direct': ['direct'], 'zoom': ['zoom', 'photograph 4x zoom', '14x zoom', 'zoom pictur', 'zoom rang', 'len zoom lever', '4x zoom', 'film zoom p', 'zoom flaw', 'megapixel 4x zoom camera', 'zoom len unit', 'playback zoom'], 'addit': ['addit'], 'problem': ['problem', 'lag time problem', 'flash problem', 'problem cant'], 'sort': ['sort', 'look sort'], 'upload': ['upload', 'consum upload'], 'comput': ['comput', 'canon comput softwar', 'appl comput'], 'issu': ['issu'], 'view': ['view', 'view mode', 'view finder'], 'menus': ['menus'], 'price': ['price', 'price drop', 'price differ', 'price rang', 'price point'], 'bargain': ['bargain'], 'photobug': ['photobug'], 'control': ['control', 'alsmost manual control', 'exposur control', 'sca control panel'], 'newbi': ['newbi'], 'anybodi': ['anybodi'], 'point': ['point', 'color respons point', 'film point', 'everyon point', 'price point'], 'shoot': ['shoot', 'shoot photographi', 'shoot abil', 'shoot power', 'shoot len'], 'lens': ['lens', 'lens filter choic'], 'year': ['year'], 'class': ['class'], 'work': ['work', 'work constitu'], 'buyer': ['buyer'], 'period': ['period'], 'charg': ['charg', 'batteri charg system'], 'softwar': ['softwar', 'canon comput softwar', 'canon softwar', 'g3 imag softwar', 'fileview softwar', 'picasa softwar googl', 'photostich softwar', 'softwar packag'], 'case': ['case'], 'pic': ['pic', 'qualiti pic'], 'store': ['store', 'dime store', 'rate store'], 'hand': ['hand'], 'bit': ['bit'], 'card': ['card', 'flash card', 'mb card', 'cf card', 'sandisk card', 'memori card', 'credit card', 'gig card'], 'simpletech': ['simpletech'], 'photograph': ['photograph', 'photograph 4x zoom'], 'wife': ['wife'], 'knob': ['knob'], 'colorimetri': ['colorimetri'], 'print': ['print'], 'brand': ['brand', 'digicam brand'], 'compani': ['compani'], 'finder': ['finder', 'view finder'], 'color': ['color', 'pictur qualiti color', 'color effect', 'color respons point'], 'output': ['output'], 'power': ['power', 'batteri power', 'shoot power'], 'amazon': ['amazon'], 'ton': ['ton'], 'f-stop': ['f-stop'], 'shot': ['shot', 'i shot', 'camcord shot', 'shot hundr'], 'kid': ['kid'], 'sparkler': ['sparkler'], 'manual': ['manual', 'alsmost manual control', 'manual focus mode'], 'spin': ['spin'], 'prioriti': ['prioriti', 'apertur prioriti', 'shutter prioriti', 'adjust option shutter prioriti'], 'length': ['length'], 'access': ['access', 't access'], 'select': ['select'], 'apertur': ['apertur', 'apertur prioriti'], 'feel': ['feel'], 'weight': ['weight'], 'someth': ['someth'], 'lot': ['lot'], 'skill': ['skill'], 'knowledg': ['knowledg'], 'auto': ['auto', 'auto exposur set', 'auto set', 'auto mode', 'idiot program auto mode'], 'joe': ['joe'], 'complex': ['complex'], 'product': ['product'], 'g': ['g'], 'drawback': ['drawback'], 'market': ['market', 'target market', 'megapixel market hype'], 'nois': ['nois', 'nois level'], 'iso': ['iso'], 'sharp': ['sharp'], 'doubt': ['doubt'], 'b': ['b'], 'lever': ['lever', 'len zoom lever', 'function lever'], 'deal': ['deal'], 'seller': ['seller'], 'balanc': ['balanc'], 'lack': ['lack'], 'experi': ['experi', 'camera experi'], 's': ['s'], 'effort': ['effort'], 'life': ['life', 'batteri life', 'flexibl batteri life', 'photo life'], 'situat': ['situat'], 'action': ['action'], 'dust': ['dust'], 'grain': ['grain', 'rice grain'], 'plenti': ['plenti'], 'light': ['light'], 'object': ['object'], 'printer': ['printer', 'photo printer', 'canon printer'], 'resolut': ['resolut', 'resolut sampl imag', 'resolut limit', 'imag qualiti resolut'], 'cost': ['cost', 'film process cost'], 'desir': ['desir'], 'mine': ['mine'], 'limit': ['limit', 'camera limit', 'resolut limit'], 'user': ['user'], 'bias': ['bias'], 'develop': ['develop'], 'digicam': ['digicam', 'megapixel digicam', 'digicam brand'], 'move': ['move'], 'reput': ['reput'], 'technolog': ['technolog'], 'ive': ['ive'], 'anyth': ['anyth'], 'field': ['field'], 'f8': ['f8'], 'lock': ['lock', 'focus lock'], 'subject': ['subject', 'speed subject'], 'pet': ['pet'], 'child': ['child'], 'shutter': ['shutter', 'shutter speed flaw', 'shutter releas lag time', 'shutter speed', 'shutter sync', 'shutter prioriti', 'shutter button', 'adjust option shutter prioriti'], 'probabl': ['probabl'], 'spot': ['spot'], 'shoe': ['shoe', 'shoe flash attach'], 'money': ['money'], 'metz': ['metz', 'metz modul', 'metz flash', 'metz flash head'], 'ct-4': ['ct-4', 'ct-4 flash head'], '45cl-3': ['45cl-3'], 'sca': ['sca', 'sca control panel'], 'order': ['order'], 'sync': ['sync', 'shutter sync'], 'durat': ['durat', 'batteri durat'], 'exposur': ['exposur', 'exposur control', 'auto exposur set', 'exposur set', 'exposur mode'], 'youv': ['youv'], 'rang': ['rang', 'set rang', 'focus rang', 'zoom rang', 'price rang', 'eo rang'], 'wall': ['wall'], 'shadow': ['shadow'], 'complaint': ['complaint'], 'file': ['file'], 'youd': ['youd'], 'tweak': ['tweak'], 'show': ['show'], 'hardwar': ['hardwar', 'g3 hardwar'], 'photoshop': ['photoshop', 'adob photoshop camera'], 'realiti': ['realiti'], 'conjunct': ['conjunct'], 'sock': ['sock'], 'decis': ['decis'], 'girlfriend': ['girlfriend'], 'worth': ['worth'], 'buy': ['buy'], 'buck': ['buck'], 'instances.but': ['instances.but'], 'instanc': ['instanc'], 'mp': ['mp', 'mp camera'], 'naysay': ['naysay'], 'tri': ['tri'], 'servic': ['servic', 'canon servic center'], 'condit': ['condit'], 'flybal': ['flybal'], 'competit': ['competit'], 'dog': ['dog'], 'dream': ['dream'], 'trillium': ['trillium'], 'flower': ['flower'], 'bloom': ['bloom'], 'criticsm': ['criticsm'], 'effect': ['effect', 'color effect', 'effect func menu option', 'custom effect'], 'fan': ['fan', 'viewfind fan'], 'expect': ['expect'], 'gain': ['gain'], 'format': ['format', 'format olympus c5050', 'tiff format', 'imag format'], 'hour': ['hour'], 'nikon': ['nikon', 'nikon slr', 'nikon flash', 'nikon f100 film camera', 'nikon cp5700', 'nikon cp5000', 'nikon coolpix'], 'captur': ['captur', 'photo captur'], 'shape': ['shape'], 'devic': ['devic', 'moment-captur devic'], 'book': ['book'], 'environ': ['environ'], 'auto-correct': ['auto-correct'], 'sun': ['sun'], 'contour': ['contour'], 'replac': ['replac'], 'sepia': ['sepia'], 'er': ['er'], 'edg': ['edg'], 'build': ['build'], 'offset': ['offset'], 'rep': ['rep'], 'term': ['term'], 'haze': ['haze'], 'slrs': ['slrs', 'film slrs'], 'mistak': ['mistak'], 'second': ['second'], 'need': ['need'], 'fianc': ['fianc'], 'cp5000': ['cp5000', 'nikon cp5000'], 'artifact': ['artifact'], 'stamp': ['stamp'], 'approv': ['approv'], 'observ': ['observ'], 'babi': ['babi'], 'pros': ['pros', 'semi pros'], 'amazon.com': ['amazon.com'], 'unrespons': ['unrespons'], 'none': ['none'], 'delay': ['delay', 'autofocus delay'], 'one': ['one'], 'bug': ['bug'], 'flaw': ['flaw', 'shutter speed flaw', 'design flaw', 'zoom flaw'], 'moment': ['moment'], 'attach': ['attach', 'shoe flash attach'], 'red-ey': ['red-ey'], 'kick': ['kick'], 'beach': ['beach'], 'noon': ['noon'], 'dive': ['dive'], 'friend': ['friend', 'camera friend', 'friend chang batteri'], 'process': ['process', 'film process cost', 'imag process'], 'iphoto': ['iphoto'], 'equip': ['equip', 'qualiti flash equip'], 'eo': ['eo', 'eo rang', 'eo film camera', 'line eo'], 'cap': ['cap', 'len cap'], 'respect': ['respect'], 'griep': ['griep'], 'iguazu': ['iguazu'], 'perform': ['perform', 'perform opinion', 'perform pictur qualiti'], 'penni': ['penni'], 'note': ['note', 'photographi pleas note'], 'plus': ['plus'], 'bunch': ['bunch'], 'advic': ['advic'], 'futur': ['futur'], 'pace': ['pace'], 'drive': ['drive', 'drive space', 'gb drive'], 'info': ['info'], 'spec': ['spec'], 'art': ['art', 'art scienc'], 'line': ['line', 'camera line', 'elph line', 'line eo'], 'grip': ['grip'], 'elph': ['elph', 'elph line'], 'home': ['home'], 'compromis': ['compromis'], 'onlin': ['onlin'], 'shortcom': ['shortcom'], 'jpeg': ['jpeg'], 'wast': ['wast'], 'lag': ['lag', 'lag time', 'lag time problem', 'shutter releas lag time'], 'mac': ['mac'], 'import': ['import'], 'curv': ['curv', 'learn curv'], 'hassl': ['hassl'], 'design': ['design', 'design flaw'], 'purpos': ['purpos'], 'rule': ['rule'], 'place': ['place'], 'varieti': ['varieti'], 'expens': ['expens'], 'plastic': ['plastic', 'plastic toy', 'plastic brick brick'], 'mean': ['mean'], 'handbag': ['handbag', 'handbag camera'], 'pocket': ['pocket'], 'strap': ['strap', 'wrist strap', 'neck strap'], 'part': ['part'], 'opinion': ['opinion', 'perform opinion'], 'item': ['item'], 'right': ['right'], 'macro': ['macro'], 'otherdigicam': ['otherdigicam'], 'resol': ['resol', 'monitor 1200x1024 resol anyway'], 'stori': ['stori'], 'usag': ['usag'], 'harm': ['harm'], 'distort': ['distort', 'len distort'], 'error': ['error'], 'compactflash': ['compactflash'], 'diagno': ['diagno'], 'fix': ['fix'], 'accessori': ['accessori'], 'subnotebook': ['subnotebook'], 'fear': ['fear'], 'cf': ['cf', 'kingston 512mb cf', 'cf card', 'media cf', 'mbyte cf', 'cf erro'], 'winner': ['winner'], 'durabl': ['durabl'], 'snow': ['snow'], 'car': ['car'], 'suggest': ['suggest'], 'wipe': ['wipe'], 'lensmateonline.com': ['lensmateonline.com'], 'g3-better': ['g3-better'], 'corner': ['corner'], 'differ': ['differ', 'price differ'], 'merchant': ['merchant'], 'j': ['j'], 'ship': ['ship'], 'saturday': ['saturday'], 'lie': ['lie'], 'repli': ['repli'], 'hope': ['hope'], 'refund': ['refund'], 'manner': ['manner'], 'thank': ['thank'], 'coolpix': ['coolpix', 'nikon coolpix'], 'ergonom': ['ergonom'], 's330': ['s330', 'powershot s330'], 'head': ['head', 'metz flash head', 'ct-4 flash head'], 'unit': ['unit', 'zoom len unit', 'flash unit'], 'tripod': ['tripod'], 'portrait': ['portrait'], 'ceil': ['ceil'], 'powerhous': ['powerhous'], 'weak': ['weak'], 'level': ['level', 'nois level'], 'memori': ['memori', 'memori card'], 'point-and-shoot': ['point-and-shoot'], 'piec': ['piec'], 'paper': ['paper'], 'extens': ['extens', 'extens cord'], 'area': ['area'], 'enthusiast': ['enthusiast', 'enthusiast featur'], 'g1': ['g1'], 'optic': ['optic', 'optic cp5700'], 'gigabyt': ['gigabyt'], 'nit': ['nit'], 'powershot seri': ['powershot seri'], 'display panel': ['display panel'], 'knockoff charger': ['knockoff charger'], 'juli fire': ['juli fire'], 'frame sensor': ['frame sensor'], 'connector cord': ['connector cord'], 'densiti filter': ['densiti filter'], 'k.': ['k.'], 'consum magazin': ['consum magazin'], 'redwood forest': ['redwood forest'], 'telephoto doubler': ['telephoto doubler'], 'f5 .6': ['f5 .6'], 'nd filter': ['nd filter'], 'olympus c5050': ['olympus c5050'], 'metal bodi': ['metal bodi'], 'snap dim': ['snap dim'], 'rebel ti': ['rebel ti'], 'bodi construct': ['bodi construct'], 'champagn finish': ['champagn finish'], 'silver magnesium finish': ['silver magnesium finish'], 'soni dcs-f': ['soni dcs-f'], 'damag idea': ['damag idea'], 'factor buff': ['factor buff'], 'parallax phenomenon': ['parallax phenomenon'], 'usb connect': ['usb connect'], 'mm adapt': ['mm adapt'], 'birthday parti': ['birthday parti'], 'steel heft': ['steel heft'], 'custom white-bal': ['custom white-bal'], 'soni dsc-f': ['soni dsc-f']}\n",
      "228\n"
     ]
    },
    {
     "data": {
      "text/plain": [
       "{'4mp': 3,\n",
       " 'abil': 5,\n",
       " 'access': 3,\n",
       " 'adjust': 8,\n",
       " 'amazon': 3,\n",
       " 'anyon': 6,\n",
       " 'anyth': 4,\n",
       " 'apertur': 3,\n",
       " 'art': 2,\n",
       " 'attach': 2,\n",
       " 'auto': 8,\n",
       " 'b': 2,\n",
       " 'balanc': 2,\n",
       " 'batteri': 21,\n",
       " 'bit': 6,\n",
       " 'bodi construct': 2,\n",
       " 'box': 5,\n",
       " 'brand': 3,\n",
       " 'bug': 2,\n",
       " 'button': 7,\n",
       " 'buyer': 2,\n",
       " 'camera': 77,\n",
       " 'canon': 44,\n",
       " 'cap': 3,\n",
       " 'captur': 3,\n",
       " 'card': 15,\n",
       " 'case': 2,\n",
       " 'cf': 6,\n",
       " 'charg': 3,\n",
       " 'child': 2,\n",
       " 'choic': 7,\n",
       " 'color': 11,\n",
       " 'combin': 2,\n",
       " 'competit': 3,\n",
       " 'complaint': 2,\n",
       " 'comput': 4,\n",
       " 'control': 10,\n",
       " 'coolpix': 3,\n",
       " 'corner': 2,\n",
       " 'cost': 3,\n",
       " 'coupl': 2,\n",
       " 'cp5000': 2,\n",
       " 'ct-4': 2,\n",
       " 'curv': 2,\n",
       " 'day': 5,\n",
       " 'deal': 2,\n",
       " 'decis': 2,\n",
       " 'delay': 2,\n",
       " 'depth': 3,\n",
       " 'design': 3,\n",
       " 'detail': 4,\n",
       " 'devic': 2,\n",
       " 'dial': 3,\n",
       " 'differ': 3,\n",
       " 'digicam': 4,\n",
       " 'disappoint': 2,\n",
       " 'distort': 2,\n",
       " 'dpreview': 2,\n",
       " 'drawback': 3,\n",
       " 'drive': 3,\n",
       " 'durat': 2,\n",
       " 'eas': 3,\n",
       " 'effect': 5,\n",
       " 'elph': 2,\n",
       " 'enthusiast': 2,\n",
       " 'eo': 4,\n",
       " 'equip': 2,\n",
       " 'everyth': 7,\n",
       " 'expect': 2,\n",
       " 'experi': 4,\n",
       " 'exposur': 6,\n",
       " 'extens': 2,\n",
       " 'fact': 5,\n",
       " 'fan': 2,\n",
       " 'featur': 22,\n",
       " 'feel': 3,\n",
       " 'file': 2,\n",
       " 'film': 14,\n",
       " 'finder': 3,\n",
       " 'flash': 25,\n",
       " 'flaw': 8,\n",
       " 'flexibl': 4,\n",
       " 'focus': 7,\n",
       " 'format': 4,\n",
       " 'friend': 3,\n",
       " 'fun': 2,\n",
       " 'function': 5,\n",
       " 'g2': 11,\n",
       " 'g3': 40,\n",
       " 'grain': 2,\n",
       " 'hand': 7,\n",
       " 'handbag': 2,\n",
       " 'hardwar': 2,\n",
       " 'head': 3,\n",
       " 'home': 2,\n",
       " 'hundr': 3,\n",
       " 'imag': 22,\n",
       " 'iphoto': 2,\n",
       " 'issu': 3,\n",
       " 'kid': 2,\n",
       " 'lack': 2,\n",
       " 'lag': 4,\n",
       " 'lcd': 15,\n",
       " 'len': 29,\n",
       " 'lens': 4,\n",
       " 'level': 2,\n",
       " 'lever': 3,\n",
       " 'life': 10,\n",
       " 'light': 5,\n",
       " 'limit': 3,\n",
       " 'line': 5,\n",
       " 'lock': 2,\n",
       " 'lot': 6,\n",
       " 'love': 3,\n",
       " 'manual': 5,\n",
       " 'market': 5,\n",
       " 'megapixel': 15,\n",
       " 'memori': 2,\n",
       " 'menus': 2,\n",
       " 'meter': 3,\n",
       " 'metz': 4,\n",
       " 'minut': 2,\n",
       " 'mode': 17,\n",
       " 'model': 2,\n",
       " 'money': 3,\n",
       " 'month': 7,\n",
       " 'mp': 2,\n",
       " 'need': 2,\n",
       " 'negat': 2,\n",
       " 'nikon': 9,\n",
       " 'nois': 5,\n",
       " 'none': 2,\n",
       " 'note': 2,\n",
       " 'noth': 4,\n",
       " 'novic': 2,\n",
       " 'object': 2,\n",
       " 'one': 2,\n",
       " 'opinion': 2,\n",
       " 'optic': 2,\n",
       " 'option': 10,\n",
       " 'order': 3,\n",
       " 'output': 2,\n",
       " 'part': 2,\n",
       " 'peopl': 4,\n",
       " 'perform': 3,\n",
       " 'period': 2,\n",
       " 'photo': 21,\n",
       " 'photograph': 6,\n",
       " 'photographi': 7,\n",
       " 'photoshop': 4,\n",
       " 'pic': 5,\n",
       " 'pictur': 36,\n",
       " 'plastic': 4,\n",
       " 'point': 14,\n",
       " 'posit': 3,\n",
       " 'power': 4,\n",
       " 'press': 2,\n",
       " 'price': 9,\n",
       " 'print': 2,\n",
       " 'printer': 4,\n",
       " 'prioriti': 6,\n",
       " 'problem': 10,\n",
       " 'process': 3,\n",
       " 'product': 3,\n",
       " 'program': 3,\n",
       " 'pros': 2,\n",
       " 'purchas': 4,\n",
       " 'qualiti': 32,\n",
       " 'rang': 8,\n",
       " 'reason': 2,\n",
       " 'red-ey': 2,\n",
       " 'research': 6,\n",
       " 'resol': 2,\n",
       " 'resolut': 7,\n",
       " 'result': 5,\n",
       " 'review': 14,\n",
       " 'right': 2,\n",
       " 's330': 2,\n",
       " 'sca': 2,\n",
       " 'screen': 7,\n",
       " 'servic': 2,\n",
       " 'set': 14,\n",
       " 'shadow': 2,\n",
       " 'shoe': 4,\n",
       " 'shoot': 9,\n",
       " 'shortcom': 2,\n",
       " 'shot': 9,\n",
       " 'shutter': 12,\n",
       " 'site': 3,\n",
       " 'situat': 3,\n",
       " 'slr': 10,\n",
       " 'slrs': 2,\n",
       " 'softwar': 12,\n",
       " 'someth': 5,\n",
       " 'sort': 3,\n",
       " 'speed': 6,\n",
       " 'storag': 3,\n",
       " 'store': 5,\n",
       " 'strap': 3,\n",
       " 'subject': 3,\n",
       " 'sun': 2,\n",
       " 'sync': 2,\n",
       " 'system': 4,\n",
       " 't': 6,\n",
       " 'technolog': 4,\n",
       " 'term': 2,\n",
       " 'thing': 10,\n",
       " 'time': 22,\n",
       " 'ton': 2,\n",
       " 'top': 3,\n",
       " 'toy': 2,\n",
       " 'trip': 4,\n",
       " 'type': 5,\n",
       " 'unit': 3,\n",
       " 'upload': 2,\n",
       " 'use': 6,\n",
       " 'user': 3,\n",
       " 'view': 5,\n",
       " 'viewfind': 14,\n",
       " 'wall': 2,\n",
       " 'way': 9,\n",
       " 'week': 6,\n",
       " 'weight': 2,\n",
       " 'wife': 3,\n",
       " 'work': 6,\n",
       " 'x': 2,\n",
       " 'year': 5,\n",
       " 'zoom': 16}"
      ]
     },
     "execution_count": 7,
     "metadata": {},
     "output_type": "execute_result"
    }
   ],
   "source": [
    "new_dict = {}\n",
    "for key in G_dict.keys():\n",
    "    tk_key = nltk.word_tokenize(key)\n",
    "    if len(tk_key) == 1:\n",
    "        new_dict[tk_key[0]] = tk_key\n",
    "for key in G_dict.keys():\n",
    "    i = len(new_dict)\n",
    "    tk_key = nltk.word_tokenize(key)\n",
    "    flag = False\n",
    "    if len(tk_key) > 1:\n",
    "        for tk_k in tk_key:\n",
    "            if tk_k in new_dict.keys():\n",
    "                new_dict[tk_k].append(key) \n",
    "                flag =True\n",
    "        if flag == False:\n",
    "            new_dict[key] = [key]\n",
    "print(len(new_dict))\n",
    "print(len(G_dict))\n",
    "print(new_dict)\n",
    "count_dict = {}\n",
    "for key in new_dict.keys():\n",
    "    count_dict[key] = 0\n",
    "    for item in new_dict[key]:\n",
    "        count_dict[key] += G_dict[item]\n",
    "count_dict\n",
    "new_count_dict = {}\n",
    "for key in count_dict.keys():\n",
    "    if count_dict[key] >= 2:\n",
    "        new_count_dict[key] = count_dict[key]\n",
    "print(len(new_count_dict))\n",
    "new_count_dict"
   ]
  },
  {
   "cell_type": "code",
   "execution_count": 10,
   "metadata": {
    "collapsed": false
   },
   "outputs": [
    {
     "name": "stdout",
     "output_type": "stream",
     "text": [
      "106\n"
     ]
    }
   ],
   "source": [
    "new_dict = {}\n",
    "for key in G_dict.keys():\n",
    "    if G_dict[key] >= 3:\n",
    "        new_dict[key] = G_dict[key]\n",
    "print(len(new_dict))\n"
   ]
  },
  {
   "cell_type": "code",
   "execution_count": 11,
   "metadata": {
    "collapsed": false
   },
   "outputs": [],
   "source": [
    "s = new_transaction['comment'][2]\n",
    "s =process_sentence(s)"
   ]
  },
  {
   "cell_type": "code",
   "execution_count": 40,
   "metadata": {
    "collapsed": false
   },
   "outputs": [
    {
     "data": {
      "text/plain": [
       "\"{'cours': ['courses', 'course'], 'code exampl': ['code examples'], 'algorithm applic': ['algorithm applications'], 'intuit': ['intuition'], 'schedul': ['schedules'], 'instructor': ['instructors'], 'capston project': ['capstone project']}\""
      ]
     },
     "execution_count": 40,
     "metadata": {},
     "output_type": "execute_result"
    }
   ],
   "source": [
    "new_transaction['target'][1]"
   ]
  },
  {
   "cell_type": "code",
   "execution_count": 13,
   "metadata": {
    "collapsed": false
   },
   "outputs": [
    {
     "data": {
      "text/plain": [
       "\"{'emili fox': ['Emily Fox'], 'job': ['job'], 'concept': ['concepts'], 'explan': ['explanation'], 'compon': ['components'], 'formula': ['formulas'], 'materi': ['materials'], 'cours': ['course'], 'univers': ['University'], 'machin learn special': ['machine learning specialization']}\""
      ]
     },
     "execution_count": 13,
     "metadata": {},
     "output_type": "execute_result"
    }
   ],
   "source": [
    "new_transaction['target'][99]"
   ]
  },
  {
   "cell_type": "code",
   "execution_count": 14,
   "metadata": {
    "collapsed": true
   },
   "outputs": [],
   "source": [
    "s = \"Emily Fox did a great job in explaining tough concepts with simple explanation of the components in the formulas It's a little tough to get through the materials though, it's the 4th course in University of Washington's machine learning specialization afterall =\""
   ]
  },
  {
   "cell_type": "code",
   "execution_count": 15,
   "metadata": {
    "collapsed": false
   },
   "outputs": [
    {
     "data": {
      "text/plain": [
       "\"from nltk.parse.corenlp import CoreNLPServer, CoreNLPDependencyParser\\npath_to_jar = '/Users/collin/stanford/stanford-corenlp-full-2017-06-09/stanford-corenlp-3.8.0.jar'\\npath_to_models_jar = '/Users/collin/stanford/stanford-corenlp-full-2017-06-09/stanford-corenlp-3.8.0-models.jar'\\nserver = CoreNLPServer(path_to_jar=path_to_jar, path_to_models_jar=path_to_models_jar)\\nserver.start()\\ndependency_parser = CoreNLPDependencyParser()\""
      ]
     },
     "execution_count": 15,
     "metadata": {},
     "output_type": "execute_result"
    }
   ],
   "source": [
    "'''from nltk.parse.corenlp import CoreNLPServer, CoreNLPDependencyParser\n",
    "path_to_jar = '/Users/collin/stanford/stanford-corenlp-full-2017-06-09/stanford-corenlp-3.8.0.jar'\n",
    "path_to_models_jar = '/Users/collin/stanford/stanford-corenlp-full-2017-06-09/stanford-corenlp-3.8.0-models.jar'\n",
    "server = CoreNLPServer(path_to_jar=path_to_jar, path_to_models_jar=path_to_models_jar)\n",
    "server.start()\n",
    "dependency_parser = CoreNLPDependencyParser()'''"
   ]
  },
  {
   "cell_type": "code",
   "execution_count": 16,
   "metadata": {
    "collapsed": false
   },
   "outputs": [
    {
     "ename": "NameError",
     "evalue": "name 'dependency_parser' is not defined",
     "output_type": "error",
     "traceback": [
      "\u001b[0;31m---------------------------------------------------------------------------\u001b[0m",
      "\u001b[0;31mNameError\u001b[0m                                 Traceback (most recent call last)",
      "\u001b[0;32m<ipython-input-16-ddb0e9dabb35>\u001b[0m in \u001b[0;36m<module>\u001b[0;34m()\u001b[0m\n\u001b[0;32m----> 1\u001b[0;31m \u001b[0mresult\u001b[0m \u001b[0;34m=\u001b[0m \u001b[0mdependency_parser\u001b[0m\u001b[0;34m.\u001b[0m\u001b[0mraw_parse\u001b[0m\u001b[0;34m(\u001b[0m\u001b[0ms\u001b[0m\u001b[0;34m)\u001b[0m\u001b[0;34m\u001b[0m\u001b[0m\n\u001b[0m\u001b[1;32m      2\u001b[0m \u001b[0mdep\u001b[0m \u001b[0;34m=\u001b[0m \u001b[0mnext\u001b[0m\u001b[0;34m(\u001b[0m\u001b[0mresult\u001b[0m\u001b[0;34m)\u001b[0m\u001b[0;34m\u001b[0m\u001b[0m\n\u001b[1;32m      3\u001b[0m \u001b[0mdep_list\u001b[0m \u001b[0;34m=\u001b[0m \u001b[0mdict\u001b[0m\u001b[0;34m(\u001b[0m\u001b[0msorted\u001b[0m\u001b[0;34m(\u001b[0m\u001b[0mdep\u001b[0m\u001b[0;34m.\u001b[0m\u001b[0mnodes\u001b[0m\u001b[0;34m.\u001b[0m\u001b[0mitems\u001b[0m\u001b[0;34m(\u001b[0m\u001b[0;34m)\u001b[0m\u001b[0;34m)\u001b[0m\u001b[0;34m)\u001b[0m\u001b[0;34m\u001b[0m\u001b[0m\n\u001b[1;32m      4\u001b[0m \u001b[0mprint\u001b[0m\u001b[0;34m(\u001b[0m\u001b[0mdep_list\u001b[0m\u001b[0;34m)\u001b[0m\u001b[0;34m\u001b[0m\u001b[0m\n\u001b[1;32m      5\u001b[0m \u001b[0;32mfor\u001b[0m \u001b[0m_\u001b[0m\u001b[0;34m,\u001b[0m \u001b[0mnode\u001b[0m \u001b[0;32min\u001b[0m \u001b[0msorted\u001b[0m\u001b[0;34m(\u001b[0m\u001b[0mdep\u001b[0m\u001b[0;34m.\u001b[0m\u001b[0mnodes\u001b[0m\u001b[0;34m.\u001b[0m\u001b[0mitems\u001b[0m\u001b[0;34m(\u001b[0m\u001b[0;34m)\u001b[0m\u001b[0;34m)\u001b[0m\u001b[0;34m:\u001b[0m\u001b[0;34m\u001b[0m\u001b[0m\n",
      "\u001b[0;31mNameError\u001b[0m: name 'dependency_parser' is not defined"
     ]
    }
   ],
   "source": [
    "result = dependency_parser.raw_parse(s)\n",
    "dep = next(result)\n",
    "dep_list = dict(sorted(dep.nodes.items()))\n",
    "print(dep_list)\n",
    "for _, node in sorted(dep.nodes.items()):\n",
    "    print(node)\n",
    "    oo"
   ]
  },
  {
   "cell_type": "code",
   "execution_count": 17,
   "metadata": {
    "collapsed": true
   },
   "outputs": [],
   "source": [
    "def dict_update(target_dict, new_w, word):\n",
    "    if new_w in target_dict.keys():\n",
    "        target_dict[new_w].append(word)\n",
    "    else:\n",
    "        target_dict[new_w] = [word]\n",
    "def extract_target_phase(target_dict, s):\n",
    "    ##parse the sentence\n",
    "    result = dependency_parser.raw_parse(s)\n",
    "    dep = next(result)\n",
    "    dep_list = dict(sorted(dep.nodes.items()))\n",
    "\n",
    "    for _, node in sorted(dep.nodes.items()):\n",
    "         if node['word'] is not None:\n",
    "            w = stem(node['word'])\n",
    "            dep_dict = dict(node['deps'])\n",
    "            if w in target_list and node['tag'][:2] == 'NN' and 'compound' in dep_dict.keys():\n",
    "                #print(w)\n",
    "                new_w =''\n",
    "                word = ''\n",
    "                for index in dep_dict['compound']:\n",
    "                    comp_word = dep_list[index]['word']\n",
    "                    comp_w = stem(comp_word)\n",
    "                    new_w = new_w + ' ' + comp_w\n",
    "                    word = word + ' ' + comp_word\n",
    "                new_w = new_w + ' ' + w\n",
    "                word = word + ' ' + node['word']\n",
    "                dict_update(target_dict, new_w, word)\n",
    "            elif w in target_list and node['tag'][:2] == 'NN' and node['rel'] !='compound':\n",
    "                dict_update(target_dict, w, node['word'])\n",
    "\n",
    "def update_target(sents):\n",
    "    target_d = {}\n",
    "    sent_list = sent_tokenize(sents)\n",
    "    for sent in sent_list:\n",
    "        extract_target_phase(target_d,sent)\n",
    "    for key in target_d.keys():\n",
    "        target_d[key] = list(set(target_d[key]))\n",
    "    return target_d"
   ]
  },
  {
   "cell_type": "code",
   "execution_count": 18,
   "metadata": {
    "collapsed": false
   },
   "outputs": [
    {
     "ename": "NameError",
     "evalue": "name 'dependency_parser' is not defined",
     "output_type": "error",
     "traceback": [
      "\u001b[0;31m---------------------------------------------------------------------------\u001b[0m",
      "\u001b[0;31mNameError\u001b[0m                                 Traceback (most recent call last)",
      "\u001b[0;32m<ipython-input-18-a048dff016e0>\u001b[0m in \u001b[0;36m<module>\u001b[0;34m()\u001b[0m\n\u001b[1;32m      6\u001b[0m \u001b[0mlines\u001b[0m \u001b[0;34m=\u001b[0m \u001b[0mf2\u001b[0m\u001b[0;34m.\u001b[0m\u001b[0mreadlines\u001b[0m\u001b[0;34m(\u001b[0m\u001b[0;34m)\u001b[0m\u001b[0;34m\u001b[0m\u001b[0m\n\u001b[1;32m      7\u001b[0m \u001b[0mtarget_list\u001b[0m \u001b[0;34m=\u001b[0m \u001b[0;34m[\u001b[0m\u001b[0mline\u001b[0m\u001b[0;34m.\u001b[0m\u001b[0msplit\u001b[0m\u001b[0;34m(\u001b[0m\u001b[0;34m\"\\n\"\u001b[0m\u001b[0;34m)\u001b[0m\u001b[0;34m[\u001b[0m\u001b[0;36m0\u001b[0m\u001b[0;34m]\u001b[0m \u001b[0;32mfor\u001b[0m \u001b[0mline\u001b[0m \u001b[0;32min\u001b[0m \u001b[0mlines\u001b[0m\u001b[0;34m]\u001b[0m\u001b[0;34m\u001b[0m\u001b[0m\n\u001b[0;32m----> 8\u001b[0;31m \u001b[0mupdate_target\u001b[0m\u001b[0;34m(\u001b[0m\u001b[0ms\u001b[0m\u001b[0;34m)\u001b[0m\u001b[0;34m\u001b[0m\u001b[0m\n\u001b[0m",
      "\u001b[0;32m<ipython-input-17-451296aab057>\u001b[0m in \u001b[0;36mupdate_target\u001b[0;34m(sents)\u001b[0m\n\u001b[1;32m     33\u001b[0m     \u001b[0msent_list\u001b[0m \u001b[0;34m=\u001b[0m \u001b[0msent_tokenize\u001b[0m\u001b[0;34m(\u001b[0m\u001b[0msents\u001b[0m\u001b[0;34m)\u001b[0m\u001b[0;34m\u001b[0m\u001b[0m\n\u001b[1;32m     34\u001b[0m     \u001b[0;32mfor\u001b[0m \u001b[0msent\u001b[0m \u001b[0;32min\u001b[0m \u001b[0msent_list\u001b[0m\u001b[0;34m:\u001b[0m\u001b[0;34m\u001b[0m\u001b[0m\n\u001b[0;32m---> 35\u001b[0;31m         \u001b[0mextract_target_phase\u001b[0m\u001b[0;34m(\u001b[0m\u001b[0mtarget_d\u001b[0m\u001b[0;34m,\u001b[0m\u001b[0msent\u001b[0m\u001b[0;34m)\u001b[0m\u001b[0;34m\u001b[0m\u001b[0m\n\u001b[0m\u001b[1;32m     36\u001b[0m     \u001b[0;32mfor\u001b[0m \u001b[0mkey\u001b[0m \u001b[0;32min\u001b[0m \u001b[0mtarget_d\u001b[0m\u001b[0;34m.\u001b[0m\u001b[0mkeys\u001b[0m\u001b[0;34m(\u001b[0m\u001b[0;34m)\u001b[0m\u001b[0;34m:\u001b[0m\u001b[0;34m\u001b[0m\u001b[0m\n\u001b[1;32m     37\u001b[0m         \u001b[0mtarget_d\u001b[0m\u001b[0;34m[\u001b[0m\u001b[0mkey\u001b[0m\u001b[0;34m]\u001b[0m \u001b[0;34m=\u001b[0m \u001b[0mlist\u001b[0m\u001b[0;34m(\u001b[0m\u001b[0mset\u001b[0m\u001b[0;34m(\u001b[0m\u001b[0mtarget_d\u001b[0m\u001b[0;34m[\u001b[0m\u001b[0mkey\u001b[0m\u001b[0;34m]\u001b[0m\u001b[0;34m)\u001b[0m\u001b[0;34m)\u001b[0m\u001b[0;34m\u001b[0m\u001b[0m\n",
      "\u001b[0;32m<ipython-input-17-451296aab057>\u001b[0m in \u001b[0;36mextract_target_phase\u001b[0;34m(target_dict, s)\u001b[0m\n\u001b[1;32m      6\u001b[0m \u001b[0;32mdef\u001b[0m \u001b[0mextract_target_phase\u001b[0m\u001b[0;34m(\u001b[0m\u001b[0mtarget_dict\u001b[0m\u001b[0;34m,\u001b[0m \u001b[0ms\u001b[0m\u001b[0;34m)\u001b[0m\u001b[0;34m:\u001b[0m\u001b[0;34m\u001b[0m\u001b[0m\n\u001b[1;32m      7\u001b[0m     \u001b[0;31m##parse the sentence\u001b[0m\u001b[0;34m\u001b[0m\u001b[0;34m\u001b[0m\u001b[0m\n\u001b[0;32m----> 8\u001b[0;31m     \u001b[0mresult\u001b[0m \u001b[0;34m=\u001b[0m \u001b[0mdependency_parser\u001b[0m\u001b[0;34m.\u001b[0m\u001b[0mraw_parse\u001b[0m\u001b[0;34m(\u001b[0m\u001b[0ms\u001b[0m\u001b[0;34m)\u001b[0m\u001b[0;34m\u001b[0m\u001b[0m\n\u001b[0m\u001b[1;32m      9\u001b[0m     \u001b[0mdep\u001b[0m \u001b[0;34m=\u001b[0m \u001b[0mnext\u001b[0m\u001b[0;34m(\u001b[0m\u001b[0mresult\u001b[0m\u001b[0;34m)\u001b[0m\u001b[0;34m\u001b[0m\u001b[0m\n\u001b[1;32m     10\u001b[0m     \u001b[0mdep_list\u001b[0m \u001b[0;34m=\u001b[0m \u001b[0mdict\u001b[0m\u001b[0;34m(\u001b[0m\u001b[0msorted\u001b[0m\u001b[0;34m(\u001b[0m\u001b[0mdep\u001b[0m\u001b[0;34m.\u001b[0m\u001b[0mnodes\u001b[0m\u001b[0;34m.\u001b[0m\u001b[0mitems\u001b[0m\u001b[0;34m(\u001b[0m\u001b[0;34m)\u001b[0m\u001b[0;34m)\u001b[0m\u001b[0;34m)\u001b[0m\u001b[0;34m\u001b[0m\u001b[0m\n",
      "\u001b[0;31mNameError\u001b[0m: name 'dependency_parser' is not defined"
     ]
    }
   ],
   "source": [
    "f1 = open('opinion_list_1.txt','r')\n",
    "lines = f1.readlines()\n",
    "opinion_list =[line.split(\"\\n\")[0] for line in lines]\n",
    "\n",
    "f2 = open('target_list_1.txt','r')\n",
    "lines = f2.readlines()\n",
    "target_list = [line.split(\"\\n\")[0] for line in lines]\n",
    "update_target(s)"
   ]
  },
  {
   "cell_type": "code",
   "execution_count": 81,
   "metadata": {
    "collapsed": true
   },
   "outputs": [],
   "source": [
    "server.stop() "
   ]
  },
  {
   "cell_type": "code",
   "execution_count": null,
   "metadata": {
    "collapsed": true
   },
   "outputs": [],
   "source": []
  }
 ],
 "metadata": {
  "kernelspec": {
   "display_name": "Python 3",
   "language": "python",
   "name": "python3"
  },
  "language_info": {
   "codemirror_mode": {
    "name": "ipython",
    "version": 3
   },
   "file_extension": ".py",
   "mimetype": "text/x-python",
   "name": "python",
   "nbconvert_exporter": "python",
   "pygments_lexer": "ipython3",
   "version": "3.6.0"
  }
 },
 "nbformat": 4,
 "nbformat_minor": 1
}
