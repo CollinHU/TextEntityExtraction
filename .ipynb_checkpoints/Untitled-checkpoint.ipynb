{
 "cells": [
  {
   "cell_type": "code",
   "execution_count": 1,
   "metadata": {
    "collapsed": true
   },
   "outputs": [],
   "source": [
    "import pandas as pd\n",
    "import numpy as np"
   ]
  },
  {
   "cell_type": "code",
   "execution_count": 2,
   "metadata": {
    "collapsed": false
   },
   "outputs": [
    {
     "data": {
      "text/html": [
       "<div>\n",
       "<table border=\"1\" class=\"dataframe\">\n",
       "  <thead>\n",
       "    <tr style=\"text-align: right;\">\n",
       "      <th></th>\n",
       "      <th>opinion</th>\n",
       "      <th>target</th>\n",
       "    </tr>\n",
       "  </thead>\n",
       "  <tbody>\n",
       "    <tr>\n",
       "      <th>0</th>\n",
       "      <td>{'good': ['Good']}</td>\n",
       "      <td>{'cours': ['course'], 'lot': ['lot'], 'thank':...</td>\n",
       "    </tr>\n",
       "    <tr>\n",
       "      <th>1</th>\n",
       "      <td>{'great': ['great'], 'good': ['good'], 'plan':...</td>\n",
       "      <td>{'cours': ['course', 'courses'], 'code': ['cod...</td>\n",
       "    </tr>\n",
       "    <tr>\n",
       "      <th>2</th>\n",
       "      <td>{'nice': ['Nice', 'nice'], 'practic': ['practi...</td>\n",
       "      <td>{'cours': ['course'], 'stuff': ['stuffs'], 'an...</td>\n",
       "    </tr>\n",
       "    <tr>\n",
       "      <th>3</th>\n",
       "      <td>{'tougher': ['tougher'], 'complex': ['complex']}</td>\n",
       "      <td>{'cluster': ['Clustering'], 'retriev': ['Retri...</td>\n",
       "    </tr>\n",
       "    <tr>\n",
       "      <th>4</th>\n",
       "      <td>{}</td>\n",
       "      <td>{'instructor': ['instructor'], 'differ': ['dif...</td>\n",
       "    </tr>\n",
       "  </tbody>\n",
       "</table>\n",
       "</div>"
      ],
      "text/plain": [
       "                                             opinion  \\\n",
       "0                                 {'good': ['Good']}   \n",
       "1  {'great': ['great'], 'good': ['good'], 'plan':...   \n",
       "2  {'nice': ['Nice', 'nice'], 'practic': ['practi...   \n",
       "3   {'tougher': ['tougher'], 'complex': ['complex']}   \n",
       "4                                                 {}   \n",
       "\n",
       "                                              target  \n",
       "0  {'cours': ['course'], 'lot': ['lot'], 'thank':...  \n",
       "1  {'cours': ['course', 'courses'], 'code': ['cod...  \n",
       "2  {'cours': ['course'], 'stuff': ['stuffs'], 'an...  \n",
       "3  {'cluster': ['Clustering'], 'retriev': ['Retri...  \n",
       "4  {'instructor': ['instructor'], 'differ': ['dif...  "
      ]
     },
     "execution_count": 2,
     "metadata": {},
     "output_type": "execute_result"
    }
   ],
   "source": [
    "transaction = pd.read_csv('transactions.csv',index_col = 0)\n",
    "transaction.head()"
   ]
  },
  {
   "cell_type": "code",
   "execution_count": 23,
   "metadata": {
    "collapsed": false
   },
   "outputs": [
    {
     "data": {
      "text/html": [
       "<div>\n",
       "<table border=\"1\" class=\"dataframe\">\n",
       "  <thead>\n",
       "    <tr style=\"text-align: right;\">\n",
       "      <th></th>\n",
       "      <th>comment</th>\n",
       "      <th>target</th>\n",
       "    </tr>\n",
       "  </thead>\n",
       "  <tbody>\n",
       "    <tr>\n",
       "      <th>0</th>\n",
       "      <td>Good course. Learned a lot from it. Thanks</td>\n",
       "      <td>{'cours': ['course'], 'lot': ['lot']}</td>\n",
       "    </tr>\n",
       "    <tr>\n",
       "      <th>1</th>\n",
       "      <td>This course was great With good code examples ...</td>\n",
       "      <td>{'cours': ['courses', 'course'], 'code exampl'...</td>\n",
       "    </tr>\n",
       "    <tr>\n",
       "      <th>2</th>\n",
       "      <td>Nice course with all the practical stuffs and ...</td>\n",
       "      <td>{'cours': ['course'], 'stuff': ['stuffs'], 'an...</td>\n",
       "    </tr>\n",
       "    <tr>\n",
       "      <th>3</th>\n",
       "      <td>Clustering &amp;amp; Retrieval was a lot tougher c...</td>\n",
       "      <td>{'cluster': ['Clustering'], 'lot': ['lot'], 'c...</td>\n",
       "    </tr>\n",
       "    <tr>\n",
       "      <th>4</th>\n",
       "      <td>I'm a grad student and I can notice the instru...</td>\n",
       "      <td>{'instructor': ['instructor'], 'differ': ['dif...</td>\n",
       "    </tr>\n",
       "  </tbody>\n",
       "</table>\n",
       "</div>"
      ],
      "text/plain": [
       "                                             comment  \\\n",
       "0        Good course. Learned a lot from it. Thanks    \n",
       "1  This course was great With good code examples ...   \n",
       "2  Nice course with all the practical stuffs and ...   \n",
       "3  Clustering &amp; Retrieval was a lot tougher c...   \n",
       "4  I'm a grad student and I can notice the instru...   \n",
       "\n",
       "                                              target  \n",
       "0              {'cours': ['course'], 'lot': ['lot']}  \n",
       "1  {'cours': ['courses', 'course'], 'code exampl'...  \n",
       "2  {'cours': ['course'], 'stuff': ['stuffs'], 'an...  \n",
       "3  {'cluster': ['Clustering'], 'lot': ['lot'], 'c...  \n",
       "4  {'instructor': ['instructor'], 'differ': ['dif...  "
      ]
     },
     "execution_count": 23,
     "metadata": {},
     "output_type": "execute_result"
    }
   ],
   "source": [
    "new_transaction = pd.read_csv('transaction_v3.csv',index_col = 0)\n",
    "new_transaction.head()"
   ]
  },
  {
   "cell_type": "code",
   "execution_count": 14,
   "metadata": {
    "collapsed": true
   },
   "outputs": [],
   "source": [
    "targets = transaction['target'].values\n",
    "size = len(targets)\n",
    "G_dict = {}\n",
    "for i in range(size):\n",
    "    L_dict = eval(targets[i])\n",
    "    for key in L_dict.keys():\n",
    "        G_dict[key] = G_dict.get(key, 0) + 1"
   ]
  },
  {
   "cell_type": "code",
   "execution_count": 15,
   "metadata": {
    "collapsed": false
   },
   "outputs": [
    {
     "data": {
      "text/plain": [
       "{'accomplish': 1,\n",
       " 'algorithm': 6,\n",
       " 'analysi': 1,\n",
       " 'analyt': 1,\n",
       " 'applic': 1,\n",
       " 'approach': 1,\n",
       " 'aspect': 1,\n",
       " 'asses': 1,\n",
       " 'assign': 6,\n",
       " 'awesom': 1,\n",
       " 'background': 4,\n",
       " 'beginn': 1,\n",
       " 'bit': 3,\n",
       " 'book': 2,\n",
       " 'capston': 6,\n",
       " 'carlo': 4,\n",
       " 'challeng': 1,\n",
       " 'cliff': 1,\n",
       " 'cluster': 10,\n",
       " 'code': 4,\n",
       " 'compon': 1,\n",
       " 'concept': 8,\n",
       " 'content': 4,\n",
       " 'cours': 69,\n",
       " 'coverag': 1,\n",
       " 'date': 1,\n",
       " 'dendrogram': 1,\n",
       " 'depth': 3,\n",
       " 'detail': 3,\n",
       " 'differ': 1,\n",
       " 'dive': 1,\n",
       " 'emili': 6,\n",
       " 'encount': 1,\n",
       " 'end': 1,\n",
       " 'etho': 1,\n",
       " 'everyth': 1,\n",
       " 'exampl': 1,\n",
       " 'experi': 1,\n",
       " 'explan': 4,\n",
       " 'feedback': 2,\n",
       " 'formula': 1,\n",
       " 'forum': 1,\n",
       " 'foundat': 3,\n",
       " 'fox': 2,\n",
       " 'good': 1,\n",
       " 'grip': 1,\n",
       " 'hit': 1,\n",
       " 'homework': 1,\n",
       " 'idea': 2,\n",
       " 'import': 1,\n",
       " 'insight': 3,\n",
       " 'instructor': 6,\n",
       " 'introduct': 1,\n",
       " 'intuit': 2,\n",
       " 'job': 2,\n",
       " 'knn': 1,\n",
       " 'knowledg': 4,\n",
       " 'lab': 2,\n",
       " 'languag': 1,\n",
       " 'lda': 5,\n",
       " 'learn': 10,\n",
       " 'learner': 2,\n",
       " 'list': 1,\n",
       " 'lot': 9,\n",
       " 'machin': 9,\n",
       " 'manner': 1,\n",
       " 'materi': 12,\n",
       " 'math': 3,\n",
       " 'method': 2,\n",
       " 'middl': 1,\n",
       " 'ml': 8,\n",
       " 'mooc': 1,\n",
       " 'other': 1,\n",
       " 'pace': 2,\n",
       " 'panda': 1,\n",
       " 'part': 3,\n",
       " 'peer': 1,\n",
       " 'peopl': 3,\n",
       " 'point': 1,\n",
       " 'practic': 1,\n",
       " 'project': 3,\n",
       " 'qualiti': 2,\n",
       " 'read': 2,\n",
       " 'reduct': 1,\n",
       " 'research': 1,\n",
       " 'respect': 1,\n",
       " 'retriev': 4,\n",
       " 'retriv': 1,\n",
       " 'review': 1,\n",
       " 'schedul': 1,\n",
       " 'section': 1,\n",
       " 'sens': 1,\n",
       " 'someon': 1,\n",
       " 'special': 10,\n",
       " 'specif': 1,\n",
       " 'stuff': 2,\n",
       " 'subject': 2,\n",
       " 'survey': 1,\n",
       " 'system': 1,\n",
       " 'task': 2,\n",
       " 'teacher': 2,\n",
       " 'techniqu': 2,\n",
       " 'term': 1,\n",
       " 'thank': 5,\n",
       " 'theori': 3,\n",
       " 'time': 4,\n",
       " 'tool': 2,\n",
       " 'topic': 8,\n",
       " 'treatment': 1,\n",
       " 'tree': 1,\n",
       " 'understand': 5,\n",
       " 'use': 1,\n",
       " 'user': 1,\n",
       " 'valu': 1,\n",
       " 'video': 1,\n",
       " 'view': 1,\n",
       " 'way': 2,\n",
       " 'web': 1,\n",
       " 'week': 3}"
      ]
     },
     "execution_count": 15,
     "metadata": {},
     "output_type": "execute_result"
    }
   ],
   "source": [
    "G_dict"
   ]
  },
  {
   "cell_type": "code",
   "execution_count": 16,
   "metadata": {
    "collapsed": false
   },
   "outputs": [
    {
     "data": {
      "text/plain": [
       "{'algorithm': 6,\n",
       " 'assign': 6,\n",
       " 'background': 4,\n",
       " 'bit': 3,\n",
       " 'book': 2,\n",
       " 'capston': 6,\n",
       " 'carlo': 4,\n",
       " 'cluster': 10,\n",
       " 'code': 4,\n",
       " 'concept': 8,\n",
       " 'content': 4,\n",
       " 'cours': 69,\n",
       " 'depth': 3,\n",
       " 'detail': 3,\n",
       " 'emili': 6,\n",
       " 'explan': 4,\n",
       " 'feedback': 2,\n",
       " 'foundat': 3,\n",
       " 'fox': 2,\n",
       " 'idea': 2,\n",
       " 'insight': 3,\n",
       " 'instructor': 6,\n",
       " 'intuit': 2,\n",
       " 'job': 2,\n",
       " 'knowledg': 4,\n",
       " 'lab': 2,\n",
       " 'lda': 5,\n",
       " 'learn': 10,\n",
       " 'learner': 2,\n",
       " 'lot': 9,\n",
       " 'machin': 9,\n",
       " 'materi': 12,\n",
       " 'math': 3,\n",
       " 'method': 2,\n",
       " 'ml': 8,\n",
       " 'pace': 2,\n",
       " 'part': 3,\n",
       " 'peopl': 3,\n",
       " 'project': 3,\n",
       " 'qualiti': 2,\n",
       " 'read': 2,\n",
       " 'retriev': 4,\n",
       " 'special': 10,\n",
       " 'stuff': 2,\n",
       " 'subject': 2,\n",
       " 'task': 2,\n",
       " 'teacher': 2,\n",
       " 'techniqu': 2,\n",
       " 'thank': 5,\n",
       " 'theori': 3,\n",
       " 'time': 4,\n",
       " 'tool': 2,\n",
       " 'topic': 8,\n",
       " 'understand': 5,\n",
       " 'way': 2,\n",
       " 'week': 3}"
      ]
     },
     "execution_count": 16,
     "metadata": {},
     "output_type": "execute_result"
    }
   ],
   "source": [
    "new_dict = {}\n",
    "for key in G_dict.keys():\n",
    "    if G_dict[key] >= 2:\n",
    "        new_dict[key] = G_dict[key]\n",
    "new_dict"
   ]
  },
  {
   "cell_type": "code",
   "execution_count": 17,
   "metadata": {
    "collapsed": true
   },
   "outputs": [],
   "source": [
    "targets = new_transaction['target'].values\n",
    "size = len(targets)\n",
    "G_dict = {}\n",
    "for i in range(size):\n",
    "    L_dict = eval(targets[i])\n",
    "    for key in L_dict.keys():\n",
    "        G_dict[key] = G_dict.get(key, 0) + 1"
   ]
  },
  {
   "cell_type": "code",
   "execution_count": 18,
   "metadata": {
    "collapsed": false
   },
   "outputs": [
    {
     "name": "stdout",
     "output_type": "stream",
     "text": [
      "{'cours': 66, 'lot': 9, 'thank': 5, 'code': 4, 'code exampl': 1, 'algorithm': 4, 'algorithm applic': 1, 'intuit': 2, 'schedul': 1, 'instructor': 6, 'capston': 5, 'capston project': 3, 'stuff': 2, 'analysi': 1, 'topic': 7, 'part': 3, 'lda': 5, 'graphlab user': 1, 'everyth': 1, 'cluster': 10, 'retriev': 4, 'match concept': 1, 'emili': 5, 'differ': 1, 'import': 1, 'knowledg': 4, 'peopl': 3, 'teacher': 2, 'book': 2, 'concept': 6, 'dendrogram': 1, 'qualiti': 2, 'specif': 1, 'depth': 3, 'special': 9, 'encount': 1, 'machin': 8, 'machin learn': 5, 'understand': 5, 'ml': 8, 'ml algorithm': 1, 'classif cours': 2, 'valu': 1, 'math': 3, 'middl': 1, 'learn': 6, 'recommend system': 1, 'deep capston': 1, 'background': 2, 'tool': 2, 'panda': 1, 'graph lab': 1, 'dive': 1, 'web': 1, 'knn': 1, 'kd tree': 1, 'foundat': 3, 'foundat cours': 1, 'assign': 5, 'term': 1, 'andrew cours': 1, 'good': 1, 'materi': 12, 'way': 2, 'sens': 1, 'accomplish': 1, 'cluster cours': 1, 'time': 4, 'math background': 2, 'week': 3, 'view': 1, 'section': 1, 'method': 2, 'cliff': 1, 'feedback': 2, 'learner': 2, 'advanc topic': 2, 'pace': 2, 'professor end': 1, 'languag': 1, 'expert emili': 1, 'carlo': 4, 'insight': 3, 'forum': 1, 'peer': 1, 'dimension reduct': 1, 'prof fox': 1, 'job': 2, 'ml concept': 1, 'date': 1, 'mooc': 1, 'bit': 3, 'theori': 3, 'techniqu': 1, 'detail': 3, 'idea': 2, 'etho': 1, 'aspect': 1, 'content': 4, 'depth explan': 1, 'lab': 1, 'hand-on machin': 1, 'world analyt': 1, 'read': 2, 'explan': 3, 'review': 1, 'use': 1, 'learn task': 1, 'coverag': 1, 'approach': 1, 'challeng': 1, 'list': 1, 'beginn': 1, 'grip': 1, 'cluster task': 1, 'treatment': 1, 'subject': 2, 'ml research': 1, 'retriv': 1, 'someon': 1, 'video': 1, 'survey': 1, 'asses': 1, 'point': 1, 'machin techniqu': 1, 'em algorithm': 1, 'homework': 1, 'experi': 1, 'introduct': 1, 'practic': 1, 'manner': 1, 'read materi': 1, 'awesom': 1, 'other': 1, 'program assign': 1, 'hit': 1, 'carlo cours': 1, 'respect': 1, 'ml special': 1, 'emili fox': 1, 'compon': 1, 'formula': 1}\n"
     ]
    }
   ],
   "source": [
    "print(G_dict)"
   ]
  },
  {
   "cell_type": "code",
   "execution_count": 19,
   "metadata": {
    "collapsed": false
   },
   "outputs": [
    {
     "data": {
      "text/plain": [
       "{'advanc topic': 2,\n",
       " 'algorithm': 4,\n",
       " 'assign': 5,\n",
       " 'background': 2,\n",
       " 'bit': 3,\n",
       " 'book': 2,\n",
       " 'capston': 5,\n",
       " 'capston project': 3,\n",
       " 'carlo': 4,\n",
       " 'classif cours': 2,\n",
       " 'cluster': 10,\n",
       " 'code': 4,\n",
       " 'concept': 6,\n",
       " 'content': 4,\n",
       " 'cours': 66,\n",
       " 'depth': 3,\n",
       " 'detail': 3,\n",
       " 'emili': 5,\n",
       " 'explan': 3,\n",
       " 'feedback': 2,\n",
       " 'foundat': 3,\n",
       " 'idea': 2,\n",
       " 'insight': 3,\n",
       " 'instructor': 6,\n",
       " 'intuit': 2,\n",
       " 'job': 2,\n",
       " 'knowledg': 4,\n",
       " 'lda': 5,\n",
       " 'learn': 6,\n",
       " 'learner': 2,\n",
       " 'lot': 9,\n",
       " 'machin': 8,\n",
       " 'machin learn': 5,\n",
       " 'materi': 12,\n",
       " 'math': 3,\n",
       " 'math background': 2,\n",
       " 'method': 2,\n",
       " 'ml': 8,\n",
       " 'pace': 2,\n",
       " 'part': 3,\n",
       " 'peopl': 3,\n",
       " 'qualiti': 2,\n",
       " 'read': 2,\n",
       " 'retriev': 4,\n",
       " 'special': 9,\n",
       " 'stuff': 2,\n",
       " 'subject': 2,\n",
       " 'teacher': 2,\n",
       " 'thank': 5,\n",
       " 'theori': 3,\n",
       " 'time': 4,\n",
       " 'tool': 2,\n",
       " 'topic': 7,\n",
       " 'understand': 5,\n",
       " 'way': 2,\n",
       " 'week': 3}"
      ]
     },
     "execution_count": 19,
     "metadata": {},
     "output_type": "execute_result"
    }
   ],
   "source": [
    "new_dict = {}\n",
    "for key in G_dict.keys():\n",
    "    if G_dict[key] >= 2:\n",
    "        new_dict[key] = G_dict[key]\n",
    "new_dict"
   ]
  },
  {
   "cell_type": "code",
   "execution_count": 29,
   "metadata": {
    "collapsed": false
   },
   "outputs": [
    {
     "data": {
      "text/plain": [
       "'Deep insight into most useful techniques of machine learning. '"
      ]
     },
     "execution_count": 29,
     "metadata": {},
     "output_type": "execute_result"
    }
   ],
   "source": [
    "new_transaction['comment'][53]"
   ]
  },
  {
   "cell_type": "code",
   "execution_count": 25,
   "metadata": {
    "collapsed": false
   },
   "outputs": [
    {
     "data": {
      "text/plain": [
       "\"{'insight': ['insight'], 'techniqu': ['techniques'], 'machin': ['machine'], 'learn': ['learning']}\""
      ]
     },
     "execution_count": 25,
     "metadata": {},
     "output_type": "execute_result"
    }
   ],
   "source": [
    "transaction['target'][53]"
   ]
  },
  {
   "cell_type": "code",
   "execution_count": 27,
   "metadata": {
    "collapsed": false
   },
   "outputs": [
    {
     "data": {
      "text/plain": [
       "\"{'emili fox': ['Emily Fox'], 'job': ['job'], 'concept': ['concepts'], 'explan': ['explanation'], 'compon': ['components'], 'formula': ['formulas'], 'materi': ['materials'], 'cours': ['course']}\""
      ]
     },
     "execution_count": 27,
     "metadata": {},
     "output_type": "execute_result"
    }
   ],
   "source": [
    "new_transaction['target'][99]"
   ]
  },
  {
   "cell_type": "code",
   "execution_count": 31,
   "metadata": {
    "collapsed": true
   },
   "outputs": [],
   "source": [
    "s = 'Deep insight into most useful techniques of machine learning.'"
   ]
  },
  {
   "cell_type": "code",
   "execution_count": 30,
   "metadata": {
    "collapsed": true
   },
   "outputs": [],
   "source": [
    "from nltk.parse.corenlp import CoreNLPServer, CoreNLPDependencyParser\n",
    "path_to_jar = '/Users/collin/stanford/stanford-corenlp-full-2017-06-09/stanford-corenlp-3.8.0.jar'\n",
    "path_to_models_jar = '/Users/collin/stanford/stanford-corenlp-full-2017-06-09/stanford-corenlp-3.8.0-models.jar'\n",
    "server = CoreNLPServer(path_to_jar=path_to_jar, path_to_models_jar=path_to_models_jar)\n",
    "server.start()\n",
    "dependency_parser = CoreNLPDependencyParser()"
   ]
  },
  {
   "cell_type": "code",
   "execution_count": 32,
   "metadata": {
    "collapsed": false
   },
   "outputs": [
    {
     "name": "stdout",
     "output_type": "stream",
     "text": [
      "{0: {'address': 0, 'word': None, 'lemma': None, 'ctag': 'TOP', 'tag': 'TOP', 'feats': None, 'head': None, 'deps': defaultdict(<class 'list'>, {'ROOT': [2]}), 'rel': None}, 1: {'address': 1, 'word': 'Deep', 'lemma': 'deep', 'ctag': 'JJ', 'tag': 'JJ', 'feats': '_', 'head': 2, 'deps': defaultdict(<class 'list'>, {}), 'rel': 'amod'}, 2: {'address': 2, 'word': 'insight', 'lemma': 'insight', 'ctag': 'NN', 'tag': 'NN', 'feats': '_', 'head': 0, 'deps': defaultdict(<class 'list'>, {'amod': [1], 'nmod': [6], 'punct': [10]}), 'rel': 'ROOT'}, 3: {'address': 3, 'word': 'into', 'lemma': 'into', 'ctag': 'IN', 'tag': 'IN', 'feats': '_', 'head': 6, 'deps': defaultdict(<class 'list'>, {}), 'rel': 'case'}, 4: {'address': 4, 'word': 'most', 'lemma': 'most', 'ctag': 'JJS', 'tag': 'JJS', 'feats': '_', 'head': 6, 'deps': defaultdict(<class 'list'>, {}), 'rel': 'amod'}, 5: {'address': 5, 'word': 'useful', 'lemma': 'useful', 'ctag': 'JJ', 'tag': 'JJ', 'feats': '_', 'head': 6, 'deps': defaultdict(<class 'list'>, {}), 'rel': 'amod'}, 6: {'address': 6, 'word': 'techniques', 'lemma': 'technique', 'ctag': 'NNS', 'tag': 'NNS', 'feats': '_', 'head': 2, 'deps': defaultdict(<class 'list'>, {'case': [3], 'amod': [4, 5], 'nmod': [9]}), 'rel': 'nmod'}, 7: {'address': 7, 'word': 'of', 'lemma': 'of', 'ctag': 'IN', 'tag': 'IN', 'feats': '_', 'head': 9, 'deps': defaultdict(<class 'list'>, {}), 'rel': 'case'}, 8: {'address': 8, 'word': 'machine', 'lemma': 'machine', 'ctag': 'NN', 'tag': 'NN', 'feats': '_', 'head': 9, 'deps': defaultdict(<class 'list'>, {}), 'rel': 'compound'}, 9: {'address': 9, 'word': 'learning', 'lemma': 'learning', 'ctag': 'NN', 'tag': 'NN', 'feats': '_', 'head': 6, 'deps': defaultdict(<class 'list'>, {'case': [7], 'compound': [8]}), 'rel': 'nmod'}, 10: {'address': 10, 'word': '.', 'lemma': '.', 'ctag': '.', 'tag': '.', 'feats': '_', 'head': 2, 'deps': defaultdict(<class 'list'>, {}), 'rel': 'punct'}}\n",
      "{'address': 0, 'word': None, 'lemma': None, 'ctag': 'TOP', 'tag': 'TOP', 'feats': None, 'head': None, 'deps': defaultdict(<class 'list'>, {'ROOT': [2]}), 'rel': None}\n",
      "{'address': 1, 'word': 'Deep', 'lemma': 'deep', 'ctag': 'JJ', 'tag': 'JJ', 'feats': '_', 'head': 2, 'deps': defaultdict(<class 'list'>, {}), 'rel': 'amod'}\n",
      "{'address': 2, 'word': 'insight', 'lemma': 'insight', 'ctag': 'NN', 'tag': 'NN', 'feats': '_', 'head': 0, 'deps': defaultdict(<class 'list'>, {'amod': [1], 'nmod': [6], 'punct': [10]}), 'rel': 'ROOT'}\n",
      "{'address': 3, 'word': 'into', 'lemma': 'into', 'ctag': 'IN', 'tag': 'IN', 'feats': '_', 'head': 6, 'deps': defaultdict(<class 'list'>, {}), 'rel': 'case'}\n",
      "{'address': 4, 'word': 'most', 'lemma': 'most', 'ctag': 'JJS', 'tag': 'JJS', 'feats': '_', 'head': 6, 'deps': defaultdict(<class 'list'>, {}), 'rel': 'amod'}\n",
      "{'address': 5, 'word': 'useful', 'lemma': 'useful', 'ctag': 'JJ', 'tag': 'JJ', 'feats': '_', 'head': 6, 'deps': defaultdict(<class 'list'>, {}), 'rel': 'amod'}\n",
      "{'address': 6, 'word': 'techniques', 'lemma': 'technique', 'ctag': 'NNS', 'tag': 'NNS', 'feats': '_', 'head': 2, 'deps': defaultdict(<class 'list'>, {'case': [3], 'amod': [4, 5], 'nmod': [9]}), 'rel': 'nmod'}\n",
      "{'address': 7, 'word': 'of', 'lemma': 'of', 'ctag': 'IN', 'tag': 'IN', 'feats': '_', 'head': 9, 'deps': defaultdict(<class 'list'>, {}), 'rel': 'case'}\n",
      "{'address': 8, 'word': 'machine', 'lemma': 'machine', 'ctag': 'NN', 'tag': 'NN', 'feats': '_', 'head': 9, 'deps': defaultdict(<class 'list'>, {}), 'rel': 'compound'}\n",
      "{'address': 9, 'word': 'learning', 'lemma': 'learning', 'ctag': 'NN', 'tag': 'NN', 'feats': '_', 'head': 6, 'deps': defaultdict(<class 'list'>, {'case': [7], 'compound': [8]}), 'rel': 'nmod'}\n",
      "{'address': 10, 'word': '.', 'lemma': '.', 'ctag': '.', 'tag': '.', 'feats': '_', 'head': 2, 'deps': defaultdict(<class 'list'>, {}), 'rel': 'punct'}\n"
     ]
    }
   ],
   "source": [
    "result = dependency_parser.raw_parse(s)\n",
    "dep = next(result)\n",
    "dep_list = dict(sorted(dep.nodes.items()))\n",
    "print(dep_list)\n",
    "for _, node in sorted(dep.nodes.items()):\n",
    "    print(node['deps']['rel'])"
   ]
  },
  {
   "cell_type": "code",
   "execution_count": null,
   "metadata": {
    "collapsed": true
   },
   "outputs": [],
   "source": [
    "server.stop() "
   ]
  }
 ],
 "metadata": {
  "kernelspec": {
   "display_name": "Python 3",
   "language": "python",
   "name": "python3"
  },
  "language_info": {
   "codemirror_mode": {
    "name": "ipython",
    "version": 3
   },
   "file_extension": ".py",
   "mimetype": "text/x-python",
   "name": "python",
   "nbconvert_exporter": "python",
   "pygments_lexer": "ipython3",
   "version": "3.6.0"
  }
 },
 "nbformat": 4,
 "nbformat_minor": 1
}
